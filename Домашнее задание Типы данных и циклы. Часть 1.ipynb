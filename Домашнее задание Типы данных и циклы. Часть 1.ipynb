{
 "cells": [
  {
   "cell_type": "code",
   "execution_count": 18,
   "id": "9c3cef4a-d063-49d2-b4d5-1274dca8d384",
   "metadata": {},
   "outputs": [
    {
     "name": "stdin",
     "output_type": "stream",
     "text": [
      "Введите слово:  123\n"
     ]
    },
    {
     "name": "stdout",
     "output_type": "stream",
     "text": [
      "Результат: 2\n"
     ]
    }
   ],
   "source": [
    "# Задание 1\n",
    "# Дана переменная, в которой хранится слово из латинских букв. Напишите код, который выводит на экран:\n",
    "# • среднюю букву, если число букв в слове нечетное;\n",
    "# • две средних буквы, если число букв четное.\n",
    "\n",
    "word = input(\"Введите слово: \")\n",
    "\n",
    "length = len(word)\n",
    "if length % 2 == 0:\n",
    "    middle_letters = word[length // 2 - 1:length // 2 + 1]\n",
    "else:\n",
    "    middle_letters = word[length // 2]\n",
    "    \n",
    "print(\"Результат:\", middle_letters)"
   ]
  },
  {
   "cell_type": "code",
   "execution_count": 31,
   "id": "02a665ba-f279-45e9-a604-5b8ea95b6691",
   "metadata": {},
   "outputs": [
    {
     "name": "stdin",
     "output_type": "stream",
     "text": [
      "Введите число:  1\n",
      "Введите число:  2\n",
      "Введите число:  3\n",
      "Введите число:  0\n"
     ]
    },
    {
     "name": "stdout",
     "output_type": "stream",
     "text": [
      "Результат: 6\n"
     ]
    }
   ],
   "source": [
    "# Задание 2\n",
    "# Напишите программу, которая последовательно запрашивает у пользователя числа (по одному за раз)\n",
    "# и после первого нуля выводит сумму всех ранее введенных чисел.\n",
    "\n",
    "sum_num = 0\n",
    "\n",
    "while True:\n",
    "    number = int(input(\"Введите число: \"))\n",
    "    if number == 0:\n",
    "        break\n",
    "    sum_num += number\n",
    "\n",
    "print(\"Результат:\", sum_num)"
   ]
  },
  {
   "cell_type": "code",
   "execution_count": 28,
   "id": "695c0b3f-890e-48c1-94cf-8eb098ae2996",
   "metadata": {},
   "outputs": [
    {
     "name": "stdout",
     "output_type": "stream",
     "text": [
      "Идеальные пары:\n",
      "Alex и Emma\n",
      "Arthur и Kate\n",
      "John и Kira\n",
      "Peter и Liza\n",
      "Richard и Trisha\n"
     ]
    }
   ],
   "source": [
    "# Задание 3\n",
    "# Мы делаем MVP dating-сервиса, и у нас есть список парней и девушек.\n",
    "# Выдвигаем гипотезу: лучшие рекомендации мы получим, если просто отсортируем имена по алфавиту и познакомим людей с одинаковыми индексами\n",
    "# после сортировки! Но мы не будем никого знакомить, если кто-то может остаться без пары.\n",
    "\n",
    "\n",
    "boys = ['Peter', 'Alex', 'John', 'Arthur', 'Richard']\n",
    "girls = ['Kate', 'Liza', 'Kira', 'Emma', 'Trisha']\n",
    "\n",
    "count_boys = len(boys)\n",
    "count_girls = len(girls)\n",
    "\n",
    "if count_boys == count_girls:\n",
    "    boys.sort()\n",
    "    girls.sort()\n",
    "    couple = zip(boys, girls)\n",
    "    print(\"Идеальные пары:\")\n",
    "    for boy, girl in couple:\n",
    "        print(f\"{boy} и {girl}\")\n",
    "else:\n",
    "    print('Внимание, кто-то может остаться без пары!')"
   ]
  },
  {
   "cell_type": "code",
   "execution_count": 39,
   "id": "21f41e2d-ab0a-4396-a5bb-445fe4737875",
   "metadata": {},
   "outputs": [
    {
     "name": "stdout",
     "output_type": "stream",
     "text": [
      "Средняя температура в странах:\n",
      "Таиланд - 23.9 C\n",
      "Германия - 13.8 C\n",
      "Россия - 3.7 C\n",
      "Польша - 12.0 C\n"
     ]
    }
   ],
   "source": [
    "# Задание 4\n",
    "# У нас есть список, содержащий информацию о среднедневной температуре в Фаренгейтах за произвольный\n",
    "# период по странам (структура данных в примере). Необходимо написать код, который рассчитает среднюю\n",
    "# температуру за период в Цельсиях(!) для каждой страны.\n",
    "\n",
    "countries_temperature = [\n",
    "    ['Таиланд', [75.2, 77, 78.8, 73.4, 68, 75.2, 77]],\n",
    "    ['Германия', [57.2, 55.4, 59, 59, 53.6]],\n",
    "    ['Россия', [35.6, 37.4, 39.2, 41, 42.8, 39.2, 35.6]],\n",
    "    ['Польша', [50, 50, 53.6, 57.2, 55.4, 55.4]]\n",
    "]\n",
    "\n",
    "print(\"Средняя температура в странах:\")\n",
    "for country, temperature in countries_temperature:\n",
    "    avg_temp = (sum(temperature) / len(temperature) - 32) * 5 / 9\n",
    "    print(f\"{country} - {avg_temp:.1f} C\")"
   ]
  },
  {
   "cell_type": "code",
   "execution_count": null,
   "id": "2e0d840c-f808-4c73-938e-f4fa0e69da3a",
   "metadata": {},
   "outputs": [],
   "source": []
  }
 ],
 "metadata": {
  "kernelspec": {
   "display_name": "Python 3 (ipykernel)",
   "language": "python",
   "name": "python3"
  },
  "language_info": {
   "codemirror_mode": {
    "name": "ipython",
    "version": 3
   },
   "file_extension": ".py",
   "mimetype": "text/x-python",
   "name": "python",
   "nbconvert_exporter": "python",
   "pygments_lexer": "ipython3",
   "version": "3.11.7"
  }
 },
 "nbformat": 4,
 "nbformat_minor": 5
}
