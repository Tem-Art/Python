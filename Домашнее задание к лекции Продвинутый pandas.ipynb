{
 "cells": [
  {
   "cell_type": "code",
   "execution_count": 36,
   "id": "5f3accb7-8330-490d-9a64-85ba6f95c92d",
   "metadata": {
    "tags": []
   },
   "outputs": [
    {
     "data": {
      "text/html": [
       "<div>\n",
       "<style scoped>\n",
       "    .dataframe tbody tr th:only-of-type {\n",
       "        vertical-align: middle;\n",
       "    }\n",
       "\n",
       "    .dataframe tbody tr th {\n",
       "        vertical-align: top;\n",
       "    }\n",
       "\n",
       "    .dataframe thead th {\n",
       "        text-align: right;\n",
       "    }\n",
       "</style>\n",
       "<table border=\"1\" class=\"dataframe\">\n",
       "  <thead>\n",
       "    <tr style=\"text-align: right;\">\n",
       "      <th></th>\n",
       "      <th>timestamp</th>\n",
       "      <th>visit_id</th>\n",
       "      <th>url</th>\n",
       "      <th>region</th>\n",
       "      <th>user_id</th>\n",
       "      <th>traffic_source</th>\n",
       "    </tr>\n",
       "  </thead>\n",
       "  <tbody>\n",
       "    <tr>\n",
       "      <th>0</th>\n",
       "      <td>timestamp</td>\n",
       "      <td>visit_id</td>\n",
       "      <td>url</td>\n",
       "      <td>region</td>\n",
       "      <td>user_id</td>\n",
       "      <td>traffic_source</td>\n",
       "    </tr>\n",
       "    <tr>\n",
       "      <th>1</th>\n",
       "      <td>1549980692</td>\n",
       "      <td>e3b0c44298</td>\n",
       "      <td>https://host.ru/3c19b4ef7371864fa3</td>\n",
       "      <td>Russia</td>\n",
       "      <td>b1613cc09f</td>\n",
       "      <td>yandex</td>\n",
       "    </tr>\n",
       "    <tr>\n",
       "      <th>2</th>\n",
       "      <td>1549980704</td>\n",
       "      <td>6e340b9cff</td>\n",
       "      <td>https://host.ru/c8d9213a31839f9a3a</td>\n",
       "      <td>Russia</td>\n",
       "      <td>4c3ec14bee</td>\n",
       "      <td>direct</td>\n",
       "    </tr>\n",
       "    <tr>\n",
       "      <th>3</th>\n",
       "      <td>1549980715</td>\n",
       "      <td>96a296d224</td>\n",
       "      <td>https://host.ru/b8b58337d272ee7b15</td>\n",
       "      <td>Russia</td>\n",
       "      <td>a8c40697fb</td>\n",
       "      <td>yandex</td>\n",
       "    </tr>\n",
       "    <tr>\n",
       "      <th>4</th>\n",
       "      <td>1549980725</td>\n",
       "      <td>709e80c884</td>\n",
       "      <td>https://host.ru/b8b58337d272ee7b15</td>\n",
       "      <td>Russia</td>\n",
       "      <td>521ac1d6a0</td>\n",
       "      <td>yandex</td>\n",
       "    </tr>\n",
       "  </tbody>\n",
       "</table>\n",
       "</div>"
      ],
      "text/plain": [
       "    timestamp    visit_id                                 url  region  \\\n",
       "0   timestamp    visit_id                                 url  region   \n",
       "1  1549980692  e3b0c44298  https://host.ru/3c19b4ef7371864fa3  Russia   \n",
       "2  1549980704  6e340b9cff  https://host.ru/c8d9213a31839f9a3a  Russia   \n",
       "3  1549980715  96a296d224  https://host.ru/b8b58337d272ee7b15  Russia   \n",
       "4  1549980725  709e80c884  https://host.ru/b8b58337d272ee7b15  Russia   \n",
       "\n",
       "      user_id  traffic_source  \n",
       "0     user_id  traffic_source  \n",
       "1  b1613cc09f          yandex  \n",
       "2  4c3ec14bee          direct  \n",
       "3  a8c40697fb          yandex  \n",
       "4  521ac1d6a0          yandex  "
      ]
     },
     "execution_count": 36,
     "metadata": {},
     "output_type": "execute_result"
    }
   ],
   "source": [
    "# Задание 1\n",
    "# Для датафрейма log из материалов занятия создайте столбец source_type по правилам:\n",
    "# • если источник traffic_source равен Yandex или Google, то в source_type ставится organic;\n",
    "# • для источников paid и email из России ставим ad;\n",
    "# • для источников paid и email не из России ставим other;\n",
    "# • все остальные варианты берём из traffic_source без изменений.\n",
    "\n",
    "import pandas as pd\n",
    "\n",
    "# Загрузка данных из файла visit_log.csv с учетом разделителя ';'\n",
    "visit_log = pd.read_csv(r'C:\\Users\\AAA\\Downloads\\Новая папка (2)\\visit_log.csv', sep=';')\n",
    "\n",
    "# Добавление нового столбца source_type и применение правил\n",
    "visit_log.loc[(visit_log['traffic_source'].isin(['yandex', 'google'])), 'source_type'] = 'organic'\n",
    "visit_log.loc[(visit_log['traffic_source'].isin(['paid', 'email'])) & (visit_log['region'] == 'Russia'), 'source_type'] = 'ad'\n",
    "visit_log.loc[(visit_log['traffic_source'].isin(['paid', 'email'])) & (visit_log['region'] != 'Russia'), 'source_type'] = 'other'\n",
    "\n",
    "df.head()"
   ]
  },
  {
   "cell_type": "code",
   "execution_count": 42,
   "id": "a22dd0ca-089f-4bf6-ba9d-f15444e381f2",
   "metadata": {
    "tags": []
   },
   "outputs": [
    {
     "name": "stdout",
     "output_type": "stream",
     "text": [
      "                                                  url\n",
      "3   /politics/36188461-s-marta-zhizn-rossiyan-susc...\n",
      "4   /world/36007585-tramp-pridumal-kak-reshit-ukra...\n",
      "5   /science/36157853-nasa-sobiraet-ekstrennuyu-pr...\n",
      "6   /video/36001498-poyavilis-pervye-podrobnosti-g...\n",
      "7   /world/36007585-tramp-pridumal-kak-reshit-ukra...\n",
      "..                                                ...\n",
      "88  /cis/35984145-kreml-prokommentiroval-soobschen...\n",
      "89  /video/36071019-olimpiyskie-obekty-rio-prevrat...\n",
      "90  /science/36151301-nazvano-posledstvie-zloupotr...\n",
      "91  /incidents/36027330-vospitatelnitsu-zatravili-...\n",
      "92  /world/36103095-dominikanskih-zhurnalistov-ubi...\n",
      "\n",
      "[84 rows x 1 columns]\n"
     ]
    }
   ],
   "source": [
    "# Задание 2\n",
    "# В файле URLs.txt содержатся URL страниц новостного сайта. Вам нужно отфильтровать его по адресам страниц с текстами новостей.\n",
    "# Известно, что шаблон страницы новостей имеет внутри URL конструкцию: /, затем 8 цифр, затем дефис. Выполните действия:\n",
    "# • Прочитайте содержимое файла с датафрейм.\n",
    "# • Отфильтруйте страницы с текстом новостей, используя метод str.contains и регулярное выражение в соответствие с заданным шаблоном.\n",
    "\n",
    "import pandas as pd\n",
    "\n",
    "df = pd.read_csv(r'C:\\Users\\AAA\\Downloads\\Новая папка (2)\\URLs.txt')\n",
    "\n",
    "# Фильтрация страниц с текстами новостей\n",
    "news_df = df[df['url'].str.contains(r'/\\d{8}-')]\n",
    "\n",
    "print(news_df)\n"
   ]
  },
  {
   "cell_type": "code",
   "execution_count": 48,
   "id": "e6831e91-358a-4be4-b4a4-e9edaa5d68e8",
   "metadata": {
    "tags": []
   },
   "outputs": [
    {
     "name": "stdout",
     "output_type": "stream",
     "text": [
      "Среднее время жизни пользователей, которые выставили более 100 оценок: 40080507.4496124\n"
     ]
    }
   ],
   "source": [
    "# Задание 3\n",
    "# Используйте файл с оценками фильмов ml-latest-small/ratings.csv. Посчитайте среднее время жизни пользователей, которые выставили более 100 оценок.\n",
    "# Под временем жизни понимается разница между максимальным и минимальным значениями столбца timestamp для данного значения userId.\n",
    "\n",
    "import pandas as pd\n",
    "\n",
    "df = pd.read_csv(r'C:\\Users\\AAA\\Downloads\\Новая папка (2)\\ml-latest-small\\ratings.csv')\n",
    "\n",
    "# Поиск пользователей, которые выставили более 100 оценок\n",
    "user_ratings_count = df['userId'].value_counts()\n",
    "active_users = user_ratings_count[user_ratings_count > 100].index\n",
    "\n",
    "# Время жизни\n",
    "users_lifetime = []\n",
    "for user in active_users:\n",
    "    user_timestamps = df[df['userId'] == user]['timestamp']\n",
    "    lifetime = user_timestamps.max() - user_timestamps.min()\n",
    "    users_lifetime.append(lifetime)\n",
    "    \n",
    "# Среднее время жизни пользователей\n",
    "average_lifetime = pd.Series(users_lifetime).mean()\n",
    "\n",
    "print(f'Среднее время жизни пользователей, которые выставили более 100 оценок: {average_lifetime}')"
   ]
  },
  {
   "cell_type": "code",
   "execution_count": 9,
   "id": "b4a8f51d-5370-42a8-aa82-4d60cf4a2b75",
   "metadata": {
    "tags": []
   },
   "outputs": [
    {
     "name": "stdout",
     "output_type": "stream",
     "text": [
      "   client_id  auto_revenue  rzd_revenue  air_revenue\n",
      "0        113       57483.0      10283.0          NaN\n",
      "1        114          83.0       5774.0          NaN\n",
      "2        115         912.0        981.0         81.0\n",
      "3        116        4834.0          NaN          4.0\n",
      "4        117          98.0          NaN         13.0\n",
      "5        111           NaN       1093.0          NaN\n",
      "6        112           NaN       2810.0          NaN\n",
      "7        118           NaN          NaN        173.0\n",
      "   client_id  auto_revenue  rzd_revenue  air_revenue          address\n",
      "0        113       57483.0      10283.0          NaN  Левобережная 1а\n",
      "1        114          83.0       5774.0          NaN          Мира 14\n",
      "2        115         912.0        981.0         81.0        ЗЖБИиДК 1\n",
      "3        116        4834.0          NaN          4.0    Строителей 18\n",
      "4        117          98.0          NaN         13.0  Панфиловская 33\n",
      "5        111           NaN       1093.0          NaN  Комсомольская 4\n",
      "6        112           NaN       2810.0          NaN   Энтузиастов 8а\n",
      "7        118           NaN          NaN        173.0     Мастеркова 4\n"
     ]
    }
   ],
   "source": [
    "# Задание 4\n",
    "# Дана статистика услуг перевозок клиентов компании по типам.\n",
    "# Сформируйте две таблицы:\n",
    "# • таблицу с тремя типами выручки для каждого client_id без указания адреса клиента;\n",
    "# • аналогичную таблицу по типам выручки с указанием адреса клиента.\n",
    "# Обратите внимание, что в процессе объединения таблиц данные не должны теряться.\n",
    "\n",
    "import pandas as pd\n",
    "\n",
    "auto = pd.DataFrame(\n",
    "    {\n",
    "        'client_id': [113, 114, 115, 116, 117],\n",
    "        'auto_revenue': [57483, 83, 912, 4834, 98]\n",
    "    }\n",
    ")\n",
    "auto\n",
    "\n",
    "rzd = pd.DataFrame(\n",
    "    {\n",
    "        'client_id': [111, 112, 113, 114, 115],\n",
    "        'rzd_revenue': [1093, 2810, 10283, 5774, 981]\n",
    "    }\n",
    ")\n",
    "rzd\n",
    "\n",
    "air = pd.DataFrame(\n",
    "    {\n",
    "        'client_id': [115, 116, 117, 118],\n",
    "        'air_revenue': [81, 4, 13, 173]\n",
    "    }\n",
    ")\n",
    "air\n",
    "\n",
    "client_base = pd.DataFrame(\n",
    "    {\n",
    "        'client_id': [111, 112, 113, 114, 115, 116, 117, 118],\n",
    "        'address': ['Комсомольская 4', 'Энтузиастов 8а', 'Левобережная 1а', 'Мира 14', 'ЗЖБИиДК 1',\n",
    "                    'Строителей 18', 'Панфиловская 33', 'Мастеркова 4']\n",
    "    }\n",
    ")\n",
    "client_base\n",
    "\n",
    "merged_data = pd.merge(auto, rzd, on='client_id', how='outer')\n",
    "merged_data = pd.merge(merged_data, air, on='client_id', how='outer')\n",
    "\n",
    "print(merged_data)\n",
    "\n",
    "merged_data_a = pd.merge(merged_data, client_base, on='client_id', how='outer')\n",
    "\n",
    "print(merged_data_a)"
   ]
  },
  {
   "cell_type": "code",
   "execution_count": null,
   "id": "1fb7a74b-3ae9-478d-a90d-2185ed713f35",
   "metadata": {},
   "outputs": [],
   "source": []
  }
 ],
 "metadata": {
  "kernelspec": {
   "display_name": "Python 3 (ipykernel)",
   "language": "python",
   "name": "python3"
  },
  "language_info": {
   "codemirror_mode": {
    "name": "ipython",
    "version": 3
   },
   "file_extension": ".py",
   "mimetype": "text/x-python",
   "name": "python",
   "nbconvert_exporter": "python",
   "pygments_lexer": "ipython3",
   "version": "3.11.7"
  }
 },
 "nbformat": 4,
 "nbformat_minor": 5
}
