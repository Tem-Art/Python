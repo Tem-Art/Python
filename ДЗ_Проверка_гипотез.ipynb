{
 "cells": [
  {
   "cell_type": "markdown",
   "metadata": {
    "id": "YwwsvrnrGZv7"
   },
   "source": [
    " ## Домашнее задание Проверка гипотез"
   ]
  },
  {
   "cell_type": "markdown",
   "metadata": {
    "id": "FOsgMF44GZv8"
   },
   "source": [
    "<div class=\"alert alert-info\">\n",
    "<b>Задание № 1</b>\n",
    "    \n",
    "Разработайте функцию для проверки нормальности распределения выборки данных, используя шаблон ниже. Вы можете использовать один из известных Вам статистических тестов.\n",
    "</div>"
   ]
  },
  {
   "cell_type": "code",
   "execution_count": 14,
   "metadata": {
    "id": "M2tSYeV9GZv9",
    "tags": []
   },
   "outputs": [
    {
     "name": "stdout",
     "output_type": "stream",
     "text": [
      "Не отклоняем нулевую гипотезу >> Данные распределены нормально\n",
      "Test statistic: 0.9862730503082275\n",
      "p-value: 0.3906231224536896\n"
     ]
    }
   ],
   "source": [
    "import numpy as np\n",
    "from scipy.stats import shapiro\n",
    "\n",
    "def check_normality(data):\n",
    "    \n",
    "    \"\"\"Условия применения теста Шапиро-Уилка:\n",
    "    • Размер выборки - тест лучше всего подходит для выборок размером до 2000 наблюдений. \n",
    "    • Тип данных - данные должны быть количественными и непрерывными.\n",
    "    • Независимость наблюдений - данные должны быть независимыми. Тест Шапиро-Уилка не подходит для зависимых данных или временных рядов.\"\"\"\n",
    "\n",
    "    # Проведение теста Шапиро-Уилка\n",
    "    stat, p_value = shapiro(data)\n",
    "    \n",
    "    # Уровень значимости\n",
    "    a = 0.05\n",
    "    \n",
    "    # Проверка результатов\n",
    "    if p_value < a:\n",
    "        print(\"Отклоняем нулевую гипотезу >> Данные распределены не нормально\")\n",
    "    else:\n",
    "        print(\"Не отклоняем нулевую гипотезу >> Данные распределены нормально\")\n",
    "        \n",
    "    # Вывод значений для информации\n",
    "    print(f\"Test statistic: {stat}\")\n",
    "    print(f\"p-value: {p_value}\")\n",
    "\n",
    "# Пример использования\n",
    "data = np.random.normal(0, 1, 100)  # Генерация нормальных данных для примера\n",
    "check_normality(data)"
   ]
  },
  {
   "cell_type": "markdown",
   "metadata": {
    "id": "AseiCYEmGZv-"
   },
   "source": [
    "<div class=\"alert alert-info\">\n",
    "<b>Задание № 2</b>\n",
    "\n",
    "Даны две выборки роста мужчин и женщин.\n",
    "- Докажите, используя `t-Тест Стьдента`, что различие между выборками незначительно, если уровень значимости равен $\\alpha$ `= 0.001`.\n",
    "- Покажите различия визуально\n",
    "- Является ли результат полезным с практической точки зрения? Почему да или нет?\n",
    "</div>"
   ]
  },
  {
   "cell_type": "code",
   "execution_count": 38,
   "metadata": {
    "id": "7e39zGu1GZv-",
    "tags": []
   },
   "outputs": [
    {
     "name": "stdout",
     "output_type": "stream",
     "text": [
      "Отклоняем нулевую гипотезу >> Различие между выборками значимо\n",
      "t-statistic: 28.313635693327363\n",
      "p-value: 4.013049237709119e-176\n"
     ]
    },
    {
     "data": {
      "image/png": "[encoded data removed]",
      "text/plain": [
       "<Figure size 1200x600 with 1 Axes>"
      ]
     },
     "metadata": {},
     "output_type": "display_data"
    }
   ],
   "source": [
    "import numpy as np\n",
    "import matplotlib.pyplot as plt\n",
    "from scipy import stats\n",
    "\n",
    "# Фиксация случайности\n",
    "np.random.seed(42)\n",
    "\n",
    "# Генерация данных\n",
    "mens = stats.norm.rvs(loc=171, scale=10, size=150000)  # Выборка мужчин со средним ростом 171\n",
    "womens = stats.norm.rvs(loc=170, scale=10, size=150000)  # Выборка женщин со средним ростом 170\n",
    "\n",
    "# Проведение t-теста для независимых выборок\n",
    "t_stat, p_value = stats.ttest_ind(mens, womens)\n",
    "\n",
    "# Уровень значимости\n",
    "alpha = 0.001\n",
    "\n",
    "# Проверка результатов\n",
    "if p_value < alpha:\n",
    "    print(\"Отклоняем нулевую гипотезу >> Различие между выборками значимо\")\n",
    "else:\n",
    "    print(\"Не отклоняем нулевую гипотезу >> Различие между выборками незначимо\")\n",
    "\n",
    "# Вывод значений для информации\n",
    "print(f\"t-statistic: {t_stat}\")\n",
    "print(f\"p-value: {p_value}\")\n",
    "\n",
    "# Визуализация\n",
    "plt.figure(figsize=(12, 6))\n",
    "plt.hist(mens, bins=50, alpha=0.5, label='Мужчины')\n",
    "plt.hist(womens, bins=50, alpha=0.5, label='Женщины')\n",
    "plt.xlabel('Рост')\n",
    "plt.ylabel('Частота')\n",
    "plt.legend(loc='upper right')\n",
    "plt.title('Распределение роста мужчин и женщин')\n",
    "plt.show()\n"
   ]
  },
  {
   "cell_type": "markdown",
   "metadata": {},
   "source": [
    "### Является ли результат полезным с практической точки зрения? Сказать сложно. Однако результаты t-теста показывают, что рост мужчин в среднем действительно отличается от роста женщин на 1 см. Разница небольшая, но она является значимой с точки зрения статистического анализа, даже не смотря на предельно низкое значение a = 0.1%. "
   ]
  },
  {
   "cell_type": "markdown",
   "metadata": {
    "id": "pJYWS2hsGZwA"
   },
   "source": [
    "<div class=\"alert alert-info\">\n",
    "<b>Задание № 3</b>\n",
    "\n",
    "Специалист по кадрам, работающий в технологической компании, интересуется сверхурочным временем разных команд. Чтобы выяснить, есть ли разница между сверхурочной работой команды разработчиков программного обеспечения и группы тестирования, она случайным образом выбрала 17 сотрудников в каждой из двух команд и записала их среднее сверхурочное время за неделю в пересчете на час. Данные ниже.\n",
    "\n",
    "В соответствии с этой информацией проведите проверку гипотезы, чтобы проверить, есть ли разница между переутомлением двух команд, используя уровень значимости 0,05. Прежде чем приступать к проверке гипотез, проверьте предположение нормальности.\n",
    "</div>"
   ]
  },
  {
   "cell_type": "code",
   "execution_count": 58,
   "metadata": {
    "id": "4z72q2FzGZwA",
    "tags": []
   },
   "outputs": [
    {
     "name": "stdout",
     "output_type": "stream",
     "text": [
      "Данные распределены не нормально\n",
      "Данные распределены не нормально\n"
     ]
    }
   ],
   "source": [
    "test_team = [6.2, 7.1, 1.5, 2,3 , 2, 1.5, 6.1, 2.4, 2.3, 12.4, 1.8, 5.3, 3.1, 9.4, 2.3, 4.1]\n",
    "developer_team = [2.3, 2.1, 1.4, 2.0, 8.7, 2.2, 3.1, 4.2, 3.6, 2.5, 3.1, 6.2, 12.1, 3.9, 2.2, 1.2 ,3.4]\n",
    "\n",
    "def check_normality2(data):\n",
    "    \n",
    "    \"\"\"Условия применения теста Шапиро-Уилка:\n",
    "    • Размер выборки - тест лучше всего подходит для выборок размером до 2000 наблюдений. \n",
    "    • Тип данных - данные должны быть количественными и непрерывными.\n",
    "    • Независимость наблюдений - данные должны быть независимыми. Тест Шапиро-Уилка не подходит для зависимых данных или временных рядов.\"\"\"\n",
    "\n",
    "    # Проведение теста Шапиро-Уилка\n",
    "    stat, p_value = shapiro(data)\n",
    "    \n",
    "    # Уровень значимости\n",
    "    a = 0.05\n",
    "    \n",
    "    # Проверка результатов\n",
    "    if p_value < a:\n",
    "        print(\"Данные распределены не нормально\")\n",
    "    else:\n",
    "        print(\"Данные распределены нормально\")\n",
    "        \n",
    "check_normality2(test_team)\n",
    "check_normality2(developer_team)"
   ]
  },
  {
   "cell_type": "code",
   "execution_count": 61,
   "metadata": {
    "tags": []
   },
   "outputs": [
    {
     "name": "stdout",
     "output_type": "stream",
     "text": [
      "Статистика U = 151.5000\n",
      "p-value = 0.8226\n",
      "Не отклоняем нулевую гипотезу. Нет статистически значимой разницы между сверхурочной работой команды разработчиков и группы тестирования.\n"
     ]
    }
   ],
   "source": [
    "from scipy.stats import mannwhitneyu\n",
    "\n",
    "\n",
    "# Выполняем Mann-Whitney U-тест\n",
    "statistic, p_value = mannwhitneyu(test_team, developer_team, alternative='two-sided')\n",
    "\n",
    "# Уровень значимости\n",
    "alpha = 0.05\n",
    "\n",
    "# Вывод результатов\n",
    "print(f\"Статистика U = {statistic:.4f}\")\n",
    "print(f\"p-value = {p_value:.4f}\")\n",
    "\n",
    "if p_value < alpha:\n",
    "    print(\"Отклоняем нулевую гипотезу. Существует статистически значимая разница между сверхурочной работой команды разработчиков и группы тестирования.\")\n",
    "else:\n",
    "    print(\"Не отклоняем нулевую гипотезу. Нет статистически значимой разницы между сверхурочной работой команды разработчиков и группы тестирования.\")"
   ]
  },
  {
   "cell_type": "markdown",
   "metadata": {
    "id": "tUZelZD5GZwB"
   },
   "source": [
    "<div class=\"alert alert-info\">\n",
    "<b>Задание № 4</b>\n",
    "\n",
    "Педиатр хочет увидеть влияние потребления смеси на среднемесячную прибавку в весе у новорожденных. По этой причине она собрала данные из трех разных групп. Первая группа – дети исключительно грудного вскармливания, вторая группа – дети, которых кормят только смесью, и последняя группа – это дети, находящиеся на искусственном вскармливании и на грудном вскармливании. Эти данные приведены ниже.\n",
    "\n",
    "В соответствии с этой информацией проведите проверку гипотезы, чтобы проверить, есть ли разница между среднемесячным приростом этих трех групп, используя уровень значимости 0,05. Если есть значительная разница, выполните дальнейший анализ, чтобы найти причину разницы.\n",
    "</div>"
   ]
  },
  {
   "cell_type": "markdown",
   "metadata": {},
   "source": [
    "### Анализ данных"
   ]
  },
  {
   "cell_type": "code",
   "execution_count": 90,
   "metadata": {
    "id": "WYRMd6LnGZwB",
    "tags": []
   },
   "outputs": [
    {
     "name": "stdout",
     "output_type": "stream",
     "text": [
      "Данные распределены нормально\n",
      "Данные распределены нормально\n",
      "Данные распределены нормально\n"
     ]
    }
   ],
   "source": [
    "only_breast = [794.1, 716.9, 993. , 724.7, 760.9, 908.2, 659.3 , 690.8, 768.7, 717.3 , 630.7, 729.5, 714.1, 810.3, 583.5, 679.9, 865.1];\n",
    "only_formula = [898.8, 881.2, 940.2, 966.2, 957.5, 1061.7, 1046.2, 980.4, 895.6, 919.7, 1074.1, 952.5, 796.3, 859.6, 871.1 , 1047.5, 919.1 , 1160.5, 996.9];\n",
    "both = [976.4, 656.4, 861.2, 706.8, 718.5, 717.1, 759.8, 894.6, 867.6, 805.6, 765.4, 800.3, 789.9, 875.3, 740. , 799.4, 790.3, 795.2 , 823.6, 818.7, 926.8, 791.7, 948.3];\n",
    "\n",
    "# Оценка нормальности        \n",
    "check_normality2(only_breast)\n",
    "check_normality2(only_formula)\n",
    "check_normality2(both)"
   ]
  },
  {
   "cell_type": "code",
   "execution_count": 86,
   "metadata": {
    "tags": []
   },
   "outputs": [
    {
     "name": "stdout",
     "output_type": "stream",
     "text": [
      "Дисперсия для группы 'Только грудное вскармливание': 10405.440661764707\n",
      "Дисперсия для группы 'Только смесь': 7949.3280701754375\n",
      "Дисперсия для группы 'Грудное молоко и смесь': 6377.547154150197\n"
     ]
    }
   ],
   "source": [
    "# Вычисление дисперсии для каждой группы\n",
    "variance_only_breast = np.var(only_breast, ddof=1)  # ddof=1 для вычисления выборочной дисперсии\n",
    "variance_only_formula = np.var(only_formula, ddof=1)\n",
    "variance_both = np.var(both, ddof=1)\n",
    "\n",
    "print(f\"Дисперсия для группы 'Только грудное вскармливание': {variance_only_breast}\")\n",
    "print(f\"Дисперсия для группы 'Только смесь': {variance_only_formula}\")\n",
    "print(f\"Дисперсия для группы 'Грудное молоко и смесь': {variance_both}\")"
   ]
  },
  {
   "cell_type": "code",
   "execution_count": 88,
   "metadata": {
    "tags": []
   },
   "outputs": [
    {
     "name": "stdout",
     "output_type": "stream",
     "text": [
      "17\n",
      "19\n",
      "23\n"
     ]
    }
   ],
   "source": [
    "# Кол-во наблюдений\n",
    "\n",
    "print (len(only_breast))\n",
    "print (len(only_formula))\n",
    "print (len(both))"
   ]
  },
  {
   "cell_type": "markdown",
   "metadata": {},
   "source": [
    "### Расчеты"
   ]
  },
  {
   "cell_type": "markdown",
   "metadata": {},
   "source": [
    "Для проверки гипотезы о разнице между среднемесячным приростом в весеиспользуем однофакторный дисперсионный анализ (ANOVA). \n",
    "\n",
    "H0: Средние значения прироста веса не различаются между группами (μ1 = μ2 = μ3).\n",
    "H1: Средние значения прироста веса различаются хотя бы для одной пары групп.\n",
    "\n",
    "Ограничения ANOVA:\n",
    "- Нормальное распределение данных\n",
    "- Однородность дисперсий\n",
    "- Независимость наблюдений\n",
    "- Отсутствие выборосов\n",
    "- Размер выборки (может давать неверные результаты при маленьких размерах выборки).\n",
    "\n",
    "Размеры воборок малы, но все остальные условия соблюдаются. "
   ]
  },
  {
   "cell_type": "code",
   "execution_count": 75,
   "metadata": {
    "tags": []
   },
   "outputs": [
    {
     "name": "stdout",
     "output_type": "stream",
     "text": [
      "Статистика F = 26.7013\n",
      "p-value = 0.0000\n",
      "Отклоняем нулевую гипотезу. Существует статистически значимая разница между среднимесячным приростом веса у различных групп.\n"
     ]
    }
   ],
   "source": [
    "from scipy.stats import f_oneway\n",
    "\n",
    "# Выполняем однофакторный дисперсионный анализ (ANOVA)\n",
    "statistic, p_value = f_oneway(only_breast, only_formula, both)\n",
    "\n",
    "# Уровень значимости\n",
    "alpha = 0.05\n",
    "\n",
    "# Вывод результатов\n",
    "print(f\"Статистика F = {statistic:.4f}\")\n",
    "print(f\"p-value = {p_value:.4f}\")\n",
    "\n",
    "if p_value < alpha:\n",
    "    print(\"Отклоняем нулевую гипотезу. Существует статистически значимая разница между среднимесячным приростом веса у различных групп.\")\n",
    "else:\n",
    "    print(\"Не отклоняем нулевую гипотезу. Нет статистически значимой разницы между среднимесячным приростом веса у различных групп.\")"
   ]
  },
  {
   "cell_type": "markdown",
   "metadata": {},
   "source": [
    "Статистика F равная 26.7013 означает, что дисперсия между группами значительно превышает дисперсию внутри групп.\n",
    "\n",
    "p-value < alpha"
   ]
  },
  {
   "cell_type": "code",
   "execution_count": 105,
   "metadata": {
    "tags": []
   },
   "outputs": [
    {
     "name": "stdout",
     "output_type": "stream",
     "text": [
      "Тест между 'Только грудное вскармливание' и 'Только смесь':\n",
      "749.8235294117648 959.2157894736845\n",
      "t-statistic = -6.5730537540281135\n",
      "p-value = 1.5674024199277874e-07\n",
      "Различие статистически значимо\n",
      "\n",
      "Тест между 'Только грудное вскармливание' и 'Грудное молоко и смесь':\n",
      "749.8235294117648 809.9521739130436\n",
      "t-statistic = -2.092227034445557\n",
      "p-value = 0.04315143345605874\n",
      "Различие статистически значимо\n",
      "\n",
      "Тест между 'Только смесь' и 'Грудное молоко и смесь':\n",
      "959.2157894736845 809.9521739130436\n",
      "t-statistic = 5.720114793736868\n",
      "p-value = 1.1692474866673824e-06\n",
      "Различие статистически значимо\n",
      "\n"
     ]
    }
   ],
   "source": [
    "# Тесты на равенство средних\n",
    " \n",
    "# Тест между only_breast и only_formula\n",
    "t_statistic, p_value = stats.ttest_ind(only_breast, only_formula)\n",
    "print(f\"Тест между 'Только грудное вскармливание' и 'Только смесь':\")\n",
    "print(np.mean(only_breast), np.mean(only_formula))\n",
    "print(f\"t-statistic = {t_statistic}\")\n",
    "print(f\"p-value = {p_value}\")\n",
    "if p_value < 0.05:\n",
    "    print(\"Различие статистически значимо\\n\")\n",
    "else:\n",
    "    print(\"Различие не статистически значимо\\n\")\n",
    "\n",
    "# Тест между only_breast и both\n",
    "t_statistic, p_value = stats.ttest_ind(only_breast, both)\n",
    "print(f\"Тест между 'Только грудное вскармливание' и 'Грудное молоко и смесь':\")\n",
    "print(np.mean(only_breast), np.mean(both))\n",
    "print(f\"t-statistic = {t_statistic}\")\n",
    "print(f\"p-value = {p_value}\")\n",
    "if p_value < 0.05:\n",
    "    print(\"Различие статистически значимо\\n\")\n",
    "else:\n",
    "    print(\"Различие не статистически значимо\\n\")\n",
    "\n",
    "# Тест между only_formula и both\n",
    "t_statistic, p_value = stats.ttest_ind(only_formula, both)\n",
    "print(f\"Тест между 'Только смесь' и 'Грудное молоко и смесь':\")\n",
    "print(np.mean(only_formula), np.mean(both))\n",
    "print(f\"t-statistic = {t_statistic}\")\n",
    "print(f\"p-value = {p_value}\")\n",
    "if p_value < 0.05:\n",
    "    print(\"Различие статистически значимо\\n\")\n",
    "else:\n",
    "    print(\"Различие не статистически значимо\\n\")"
   ]
  },
  {
   "cell_type": "markdown",
   "metadata": {},
   "source": [
    "### Вывод на основании тестов: чем больше смеси в рационе, тем больше прирост веса. Однако стоит обатить внимание, что выборки очень малы."
   ]
  },
  {
   "cell_type": "markdown",
   "metadata": {
    "id": "O0LhesbhGZwH"
   },
   "source": [
    "<div class=\"alert alert-info\">\n",
    "<b>Задание № 5 (Опционально) </b>\n",
    "\n",
    "Аналитик финансовой инвестиционной компании интересуется взаимосвязью между полом и склонностью к риску. Из базы данных была взята случайная выборка из 660 клиентов. Клиенты в выборке были классифицированы в соответствии с их полом и склонностью к риску. Результат приведен в следующей таблице.\n",
    "    \n",
    "Проверьте гипотезу о том, что склонность к риску клиентов этой компании не зависит от их пола. Используйте α = 0.01.    \n",
    "</div>"
   ]
  },
  {
   "cell_type": "code",
   "execution_count": null,
   "metadata": {
    "id": "UP998NjNGZwI",
    "outputId": "594d4e97-97c7-4475-f572-6dcd187effec"
   },
   "outputs": [
    {
     "name": "stdout",
     "output_type": "stream",
     "text": [
      "Уровень риска\n",
      "    0   1   2   3    4\n",
      "Ж  53  23  30  36   88\n",
      "М  71  48  51  57  203\n"
     ]
    }
   ],
   "source": [
    "contingency_table = pd.DataFrame(\n",
    "    [\n",
    "        [53, 23, 30, 36, 88],\n",
    "        [71, 48, 51, 57, 203]\n",
    "    ],\n",
    "    #columns = ['Machine Learning', 'Data Science', 'Analytics'],\n",
    "    index = ['Ж', 'М'])\n",
    "\n",
    "print('Уровень риска')\n",
    "print(contingency_table)"
   ]
  },
  {
   "cell_type": "code",
   "execution_count": null,
   "metadata": {},
   "outputs": [],
   "source": []
  },
  {
   "cell_type": "markdown",
   "metadata": {
    "id": "nImsQh5LGZwM"
   },
   "source": [
    "<div class=\"alert alert-info\">\n",
    "<b>Задание № 6 (Опционально)</b>\n",
    "\n",
    "Компания электронной коммерции регулярно размещает рекламу своих кампаний на YouTube, Instagram и Facebook. Однако новому менеджеру было любопытно, есть ли разница между количеством клиентов, привлеченных этими платформами. Поэтому она начала использовать Adjust — приложение, позволяющее узнать, откуда приходят ваши пользователи. Ежедневные цифры, сообщаемые Adjust для каждой платформы, приведены ниже.\n",
    "    \n",
    "В соответствии с этой информацией проведите проверку гипотез, чтобы проверить, есть ли разница между средним числом привлеченных клиентов на этих трех платформах с использованием уровня значимости 0,05. Если есть значительная разница, выполните дальнейший анализ, чтобы найти причину разницы. Прежде чем приступать к проверке гипотез, проверьте соответствующие предположения.\n",
    "</div>"
   ]
  },
  {
   "cell_type": "code",
   "execution_count": null,
   "metadata": {
    "id": "Hrhaf-J0GZwN"
   },
   "outputs": [],
   "source": [
    "youtube=[1913, 1879, 1939, 2146, 2040, 2127, 2122, 2156, 2036, 1974, 1956, 2146, 2151, 1943, 2125]\n",
    "instagram = [2305., 2355., 2203., 2231., 2185., 2420., 2386., 2410., 2340., 2349., 2241., 2396., 2244., 2267., 2281.]\n",
    "facebook = [2133., 2522., 2124., 2551., 2293., 2367., 2460., 2311., 2178., 2113., 2048., 2443., 2265., 2095., 2528.]"
   ]
  },
  {
   "cell_type": "code",
   "execution_count": null,
   "metadata": {},
   "outputs": [],
   "source": []
  },
  {
   "cell_type": "markdown",
   "metadata": {
    "id": "If3qgUORDFBb"
   },
   "source": [
    "# **Примечание:**\n",
    "\n",
    "Домашнее задание сдается ссылкой [Google Colab](https://colab.research.google.com/). Мы не сможем проверить его или помочь, если вы пришлете:\n",
    "\n",
    "*   файлы;\n",
    "*   архивы;\n",
    "*   скриншоты кода.\n",
    "\n",
    "Все обсуждения и консультации по выполнению домашнего задания ведутся только на соответствующем канале в Discord.\n",
    "\n",
    "**Как правильно задавать вопросы аспирантам, преподавателям и коллегам:**\n",
    "\n",
    "Прежде чем задать вопрос, попробуйте найти ответ в интернете. Навык самостоятельного поиска информации — один из важнейших. Каждый практикующий специалист любого уровня делает это ежедневно.\n",
    "\n",
    "Сформулируйте вопрос по алгоритму:\n",
    "\n",
    "1.   Что я делаю?\n",
    "2.   Какого результата я ожидаю?\n",
    "3.   Как фактический результат отличается от ожидаемого?\n",
    "4.   Что я уже попробовал сделать, чтобы исправить проблему?\n",
    "\n",
    "По возможности прикрепите к вопросу скриншоты либо ссылки на код. Не выкладывайте все решение, оставляйте только проблемный и воспроизводимый участок кода."
   ]
  }
 ],
 "metadata": {
  "colab": {
   "provenance": []
  },
  "kernelspec": {
   "display_name": "Python 3 (ipykernel)",
   "language": "python",
   "name": "python3"
  },
  "language_info": {
   "codemirror_mode": {
    "name": "ipython",
    "version": 3
   },
   "file_extension": ".py",
   "mimetype": "text/x-python",
   "name": "python",
   "nbconvert_exporter": "python",
   "pygments_lexer": "ipython3",
   "version": "3.11.7"
  },
  "toc": {
   "base_numbering": 1,
   "nav_menu": {},
   "number_sections": true,
   "sideBar": true,
   "skip_h1_title": false,
   "title_cell": "Table of Contents",
   "title_sidebar": "Contents",
   "toc_cell": false,
   "toc_position": {},
   "toc_section_display": true,
   "toc_window_display": false
  }
 },
 "nbformat": 4,
 "nbformat_minor": 4
}
