{
 "cells": [
  {
   "cell_type": "code",
   "execution_count": 11,
   "id": "9b4cfb7d-156f-43d2-a579-d2bd782fcae4",
   "metadata": {},
   "outputs": [
    {
     "name": "stdout",
     "output_type": "stream",
     "text": [
      "Фраза 1 длиннее фразы 2\n"
     ]
    }
   ],
   "source": [
    "phrase_1 ='Насколько проще было бы писать программы, если бы не заказчики'\n",
    "phrase_2 ='640Кб должно хватить для любых задач. Билл Гейтс (по легенде)'\n",
    "\n",
    "if len(phrase_1) > len(phrase_2):\n",
    "    print('Фраза 1 длиннее фразы 2')\n",
    "elif len(phrase_1) < len (phrase_2):\n",
    "    print('Фраза 2 длиннее фразы 1')\n",
    "else: \n",
    "    print('Фразы равной длины')"
   ]
  },
  {
   "cell_type": "code",
   "execution_count": 12,
   "id": "69d4c763-0b15-47bc-8b75-279a5b4cb13f",
   "metadata": {},
   "outputs": [
    {
     "name": "stdout",
     "output_type": "stream",
     "text": [
      "Обычный год\n"
     ]
    }
   ],
   "source": [
    "year = 2075\n",
    "\n",
    "if (year % 4 == 0 and year % 100 != 0) or (year % 400 == 0):\n",
    "    print('Високосный год')\n",
    "else:\n",
    "    print('Обычный год')"
   ]
  },
  {
   "cell_type": "code",
   "execution_count": 14,
   "id": "14546f24-4ee4-44ed-83af-6afcf51301d6",
   "metadata": {},
   "outputs": [
    {
     "name": "stdin",
     "output_type": "stream",
     "text": [
      "Введите день:\n",
      " 29\n",
      "Введите месяц:\n",
      " августт\n"
     ]
    },
    {
     "name": "stdout",
     "output_type": "stream",
     "text": [
      "Ошибка данных: Некорректный месяц\n"
     ]
    }
   ],
   "source": [
    "try:\n",
    "    day = int(input(\"Введите день:\\n\"))\n",
    "    month = input(\"Введите месяц:\\n\").capitalize()\n",
    "\n",
    "    if month not in [\"Январь\", \"Февраль\", \"Март\", \"Апрель\", \"Май\", \"Июнь\", \"Июль\", \"Август\", \"Сентябрь\", \"Октябрь\", \"Ноябрь\", \"Декабрь\"]:\n",
    "        raise ValueError(\"Некорректный месяц\")\n",
    "\n",
    "    if not (1 <= day <= 31):\n",
    "        raise ValueError(\"Некорректный день\")\n",
    "\n",
    "    if (month == \"Январь\" and 20 <= day <= 31) or (month == \"Февраль\" and 1 <= day <= 18):\n",
    "        zodiac_sign = \"Водолей\"\n",
    "    elif (month == \"Февраль\" and 19 <= day <= 29) or (month == \"Март\" and 1 <= day <= 20):\n",
    "        zodiac_sign = \"Рыбы\"\n",
    "    elif (month == \"Март\" and 21 <= day <= 31) or (month == \"Апрель\" and 1 <= day <= 19):\n",
    "        zodiac_sign = \"Овен\"\n",
    "    elif (month == \"Апрель\" and 20 <= day <= 30) or (month == \"Май\" and 1 <= day <= 20):\n",
    "        zodiac_sign = \"Телец\"\n",
    "    elif (month == \"Май\" and 21 <= day <= 31) or (month == \"Июнь\" and 1 <= day <= 20):\n",
    "        zodiac_sign = \"Близнецы\"\n",
    "    elif (month == \"Июнь\" and 21 <= day <= 30) or (month == \"Июль\" and 1 <= day <= 22):\n",
    "        zodiac_sign = \"Рак\"\n",
    "    elif (month == \"Июль\" and 23 <= day <= 31) or (month == \"Август\" and 1 <= day <= 22):\n",
    "        zodiac_sign = \"Лев\"\n",
    "    elif (month == \"Август\" and 23 <= day <= 31) or (month == \"Сентябрь\" and 1 <= day <= 22):\n",
    "        zodiac_sign = \"Дева\"\n",
    "    elif (month == \"Сентябрь\" and 23 <= day <= 30) or (month == \"Октябрь\" and 1 <= day <= 22):\n",
    "        zodiac_sign = \"Весы\"\n",
    "    elif (month == \"Октябрь\" and 23 <= day <= 31) or (month == \"Ноябрь\" and 1 <= day <= 21):\n",
    "        zodiac_sign = \"Скорпион\"\n",
    "    elif (month == \"Ноябрь\" and 22 <= day <= 30) or (month == \"Декабрь\" and 1 <= day <= 21):\n",
    "        zodiac_sign = \"Стрелец\"\n",
    "    elif (month == \"Декабрь\" and 22 <= day <= 31) or (month == \"Январь\" and 1 <= day <= 19):\n",
    "        zodiac_sign = \"Козерог\"\n",
    "    else:\n",
    "        raise ValueError(\"Некорректные данные для определения знака зодиака\")\n",
    "\n",
    "    print(f\"Ваш знак зодиака: {zodiac_sign}\")\n",
    "\n",
    "except ValueError as e:\n",
    "    print(f'Ошибка данных: {e}')"
   ]
  },
  {
   "cell_type": "code",
   "execution_count": 28,
   "id": "c0e1b6c6-2876-4093-af90-53934bc70983",
   "metadata": {},
   "outputs": [
    {
     "name": "stdin",
     "output_type": "stream",
     "text": [
      "Введите ширину в см:\n",
      " 10\n",
      "Введите длину в см:\n",
      " 210\n",
      "Введите высоту в см:\n",
      " 10\n"
     ]
    },
    {
     "name": "stdout",
     "output_type": "stream",
     "text": [
      "Упаковка для лыж\n"
     ]
    }
   ],
   "source": [
    "width = int(input(\"Введите ширину в см:\\n\"))\n",
    "length = int(input(\"Введите длину в см:\\n\"))\n",
    "height = int(input(\"Введите высоту в см:\\n\"))\n",
    "\n",
    "if (width <= 15) and (length <= 15) and (height <= 15):\n",
    "    print(\"Коробка №1\")\n",
    "elif (width > 200) or (length > 200) or (height > 200):\n",
    "    print(\"Упаковка для лыж\")\n",
    "elif 15 < width <= 50 or 15 < length <= 50 or 15 < height <= 50:\n",
    "    print(\"Коробка №2\")\n",
    "else:\n",
    "    print(\"Коробка №3\")"
   ]
  },
  {
   "cell_type": "code",
   "execution_count": null,
   "id": "4c98ec10-3436-4159-ba18-850ad6f1020b",
   "metadata": {},
   "outputs": [],
   "source": []
  }
 ],
 "metadata": {
  "kernelspec": {
   "display_name": "Python 3 (ipykernel)",
   "language": "python",
   "name": "python3"
  },
  "language_info": {
   "codemirror_mode": {
    "name": "ipython",
    "version": 3
   },
   "file_extension": ".py",
   "mimetype": "text/x-python",
   "name": "python",
   "nbconvert_exporter": "python",
   "pygments_lexer": "ipython3",
   "version": "3.11.7"
  }
 },
 "nbformat": 4,
 "nbformat_minor": 5
}
