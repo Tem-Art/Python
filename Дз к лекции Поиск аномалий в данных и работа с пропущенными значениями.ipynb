{
 "cells": [
  {
   "cell_type": "markdown",
   "id": "1c5f9888-3ee9-48d4-9348-5f922e0ca8aa",
   "metadata": {},
   "source": [
    "## Домашнее задание к лекции \"Поиск аномалий в данных и работа с пропущенными значениями\"\n",
    "\n",
    "Будем осуществлять работу с непростым набором данных “horse_data.csv” о состоянии здоровья лошадей, испытывающих кишечные колики. Цель – максимально корректно заполнить пропуски."
   ]
  },
  {
   "cell_type": "markdown",
   "id": "10a167bd-f8d3-4a23-8838-5f488a15b5eb",
   "metadata": {},
   "source": [
    "**Переведем информацию из файла “horse_data.names” о нужных столбцах.**\n",
    "\n",
    "**1. Операция:**\n",
    " - 1 = Да, была операция\n",
    " - 2 = Лечили без операции\n",
    "\n",
    " \n",
    "**2. Возраст:**\n",
    " - 1 = взрослая лошадь\n",
    " - 2 = Молодой (< 6 месяцев)\n",
    " \n",
    "**4. Ректальная температура:**\n",
    " - линейный\n",
    " - в градусах Цельсия.\n",
    " - Повышенная температура может возникнуть из-за инфекции.\n",
    " - температура может быть снижена, когда животное находится в позднем шоке\n",
    " - нормальная температура 37,8.\n",
    " - этот параметр обычно меняется по мере развития проблемы\n",
    " \n",
    " Например, может быть нормальной, затем стать повышенной из-за\n",
    " поражений, проходя обратно через нормальный диапазон по мере того, как\n",
    " лошадь впадает в шок.\n",
    " \n",
    " **5. Пульс:**\n",
    " - линейный\n",
    " - частота пульса в ударах в минуту\n",
    " - является отражением состояния сердца: 30-40 – это нормально для взрослых.\n",
    " - редко бывает показатель ниже обычного, хотя у спортивных лошадей может быть 20-25\n",
    " - животные с болезненными поражениями или страдающие от циркуляторного шока может быть повышенная частота сердечных сокращений\n",
    "\n",
    " **6. Частота дыхания:**\n",
    " - линейный\n",
    " - нормальная от 8 до 10\n",
    " - полезность сомнительна из-за больших колебаний\n",
    "\n",
    " **7. Температура конечностей:**\n",
    " - субъективное указание на периферическое кровообращение\n",
    " - возможные значения:\n",
    "   - 1 = Нормальный\n",
    "   - 2 = Теплый\n",
    "   - 3 = Круто\n",
    "   - 4 = Холодно\n",
    " - Холодные конечности указывают на возможный шок\n",
    " - горячие конечности должны коррелировать с повышенной ректальной температурой.\n",
    " \n",
    "**11. Боль – субъективная оценка уровня боли лошади.**\n",
    " - возможные значения:\n",
    "   - 1 = тревога, боли нет\n",
    "   - 2 = депрессия\n",
    "   - 3 = периодическая легкая боль\n",
    "   - 4 = периодическая сильная боль\n",
    "   - 5 = постоянная сильная боль\n",
    " - НЕ следует рассматривать как упорядоченную или дискретную переменную!\n",
    " - В общем, чем больнее, тем скорее потребуется операция\n",
    " - предшествующее лечение боли может в некоторой степени маскировать уровень боли\n",
    " \n",
    " **23. Результат:**\n",
    " - что в итоге случилось с лошадью?\n",
    " - возможные значения:\n",
    "    - 1 = выжила\n",
    "    - 2 = умерла\n",
    "    - 3 = была подвергнута эвтаназии"
   ]
  },
  {
   "cell_type": "markdown",
   "id": "c91a410b-69c7-41b1-ae08-93925404e0e4",
   "metadata": {
    "tags": []
   },
   "source": [
    "# Подготовка данных."
   ]
  },
  {
   "cell_type": "markdown",
   "id": "446f42aa-2159-4aa1-93b5-5fabc91e393a",
   "metadata": {},
   "source": [
    "**Загрузка данных (заголовки отсутствуют). Выбор нужных столбцов по индексу.**"
   ]
  },
  {
   "cell_type": "code",
   "execution_count": 1,
   "id": "74638205-a43a-4090-ab07-42dfd876ede0",
   "metadata": {
    "tags": []
   },
   "outputs": [
    {
     "name": "stdout",
     "output_type": "stream",
     "text": [
      "<class 'pandas.core.frame.DataFrame'>\n",
      "RangeIndex: 300 entries, 0 to 299\n",
      "Data columns (total 8 columns):\n",
      " #   Column  Non-Null Count  Dtype \n",
      "---  ------  --------------  ----- \n",
      " 0   0       300 non-null    object\n",
      " 1   1       300 non-null    int64 \n",
      " 2   3       300 non-null    object\n",
      " 3   4       300 non-null    object\n",
      " 4   5       300 non-null    object\n",
      " 5   6       300 non-null    object\n",
      " 6   10      300 non-null    object\n",
      " 7   22      300 non-null    object\n",
      "dtypes: int64(1), object(7)\n",
      "memory usage: 18.9+ KB\n",
      "None\n",
      "\n",
      "(300, 8)\n",
      "\n",
      "   0   1      3    4   5  6  10 22\n",
      "0   2   1  38.50   66  28  3  5  2\n",
      "1   1   1   39.2   88  20  ?  3  3\n",
      "2   2   1  38.30   40  24  1  3  1\n",
      "3   1   9  39.10  164  84  4  2  2\n",
      "4   2   1  37.30  104  35  ?  ?  2\n",
      "5   2   1      ?    ?   ?  2  2  1\n",
      "6   1   1  37.90   48  16  1  3  1\n",
      "7   1   1      ?   60   ?  3  ?  2\n",
      "8   2   1      ?   80  36  3  4  3\n",
      "9   2   9  38.30   90   ?  1  5  1\n",
      "10  1   1  38.10   66  12  3  3  1\n",
      "11  2   1  39.10   72  52  2  2  1\n",
      "12  1   1  37.20   42  12  2  3  1\n",
      "13  2   9  38.00   92  28  1  1  2\n",
      "14  1   1   38.2   76  28  3  3  1\n",
      "15  1   1  37.60   96  48  3  5  2\n",
      "16  1   9      ?  128  36  3  4  2\n",
      "17  2   1  37.50   48  24  ?  ?  1\n",
      "18  1   1  37.60   64  21  1  2  1\n",
      "19  2   1   39.4  110  35  4  ?  1\n"
     ]
    }
   ],
   "source": [
    "import pandas as pd\n",
    "import numpy as np\n",
    "import matplotlib.pyplot as plt\n",
    "\n",
    "file_path = r'C:\\Users\\AAA\\Desktop\\Jupyter\\horse_data.csv'\n",
    "df = pd.read_csv(file_path, header=None, usecols=[0, 1, 3, 4, 5, 6, 10, 22])\n",
    "print(df.info())\n",
    "print()\n",
    "print(df.shape)\n",
    "print()\n",
    "print(df.head(20))"
   ]
  },
  {
   "cell_type": "markdown",
   "id": "5a790a8e-dffc-464c-bda7-4d25ebd7f46f",
   "metadata": {},
   "source": [
    "**Присваиваем названия столбцам и преобразуем в нужные типы данных.**"
   ]
  },
  {
   "cell_type": "code",
   "execution_count": 2,
   "id": "96c3d3ce-85e8-4812-a832-f045e7ff9bce",
   "metadata": {
    "tags": []
   },
   "outputs": [
    {
     "name": "stdout",
     "output_type": "stream",
     "text": [
      "    surgery?  Age  rectal temperature  pulse  respiratory rate  \\\n",
      "0        2.0  1.0                38.5   66.0              28.0   \n",
      "1        1.0  1.0                39.2   88.0              20.0   \n",
      "2        2.0  1.0                38.3   40.0              24.0   \n",
      "3        1.0  2.0                39.1  164.0              84.0   \n",
      "4        2.0  1.0                37.3  104.0              35.0   \n",
      "5        2.0  1.0                 NaN    NaN               NaN   \n",
      "6        1.0  1.0                37.9   48.0              16.0   \n",
      "7        1.0  1.0                 NaN   60.0               NaN   \n",
      "8        2.0  1.0                 NaN   80.0              36.0   \n",
      "9        2.0  2.0                38.3   90.0               NaN   \n",
      "10       1.0  1.0                38.1   66.0              12.0   \n",
      "11       2.0  1.0                39.1   72.0              52.0   \n",
      "12       1.0  1.0                37.2   42.0              12.0   \n",
      "13       2.0  2.0                38.0   92.0              28.0   \n",
      "14       1.0  1.0                38.2   76.0              28.0   \n",
      "15       1.0  1.0                37.6   96.0              48.0   \n",
      "16       1.0  2.0                 NaN  128.0              36.0   \n",
      "17       2.0  1.0                37.5   48.0              24.0   \n",
      "18       1.0  1.0                37.6   64.0              21.0   \n",
      "19       2.0  1.0                39.4  110.0              35.0   \n",
      "\n",
      "    temperature of extremities  pain  outcome  \n",
      "0                          3.0   5.0      2.0  \n",
      "1                          NaN   3.0      3.0  \n",
      "2                          1.0   3.0      1.0  \n",
      "3                          4.0   2.0      2.0  \n",
      "4                          NaN   NaN      2.0  \n",
      "5                          2.0   2.0      1.0  \n",
      "6                          1.0   3.0      1.0  \n",
      "7                          3.0   NaN      2.0  \n",
      "8                          3.0   4.0      3.0  \n",
      "9                          1.0   5.0      1.0  \n",
      "10                         3.0   3.0      1.0  \n",
      "11                         2.0   2.0      1.0  \n",
      "12                         2.0   3.0      1.0  \n",
      "13                         1.0   1.0      2.0  \n",
      "14                         3.0   3.0      1.0  \n",
      "15                         3.0   5.0      2.0  \n",
      "16                         3.0   4.0      2.0  \n",
      "17                         NaN   NaN      1.0  \n",
      "18                         1.0   2.0      1.0  \n",
      "19                         4.0   NaN      1.0  \n"
     ]
    }
   ],
   "source": [
    "df.columns = ['surgery?', 'Age', 'rectal temperature', 'pulse', 'respiratory rate', \n",
    "              'temperature of extremities', 'pain', 'outcome']\n",
    "\n",
    "df['surgery?'] = pd.to_numeric(df['surgery?'], errors='coerce').astype('float64')\n",
    "df['Age'] = pd.to_numeric(df['Age'], errors='coerce').astype('float64')\n",
    "df['rectal temperature'] = pd.to_numeric(df['rectal temperature'], errors='coerce').astype('float64')\n",
    "df['pulse'] = pd.to_numeric(df['pulse'], errors='coerce').astype('float64')\n",
    "df['respiratory rate'] = pd.to_numeric(df['respiratory rate'], errors='coerce').astype('float64')\n",
    "df['temperature of extremities'] = pd.to_numeric(df['temperature of extremities'], errors='coerce').astype('float64')\n",
    "df['pain'] = pd.to_numeric(df['pain'], errors='coerce').astype('float64')\n",
    "df['outcome'] = pd.to_numeric(df['outcome'], errors='coerce').astype('float64')\n",
    "\n",
    "# Заменяем все значения \"9\" (ошибка в исходнике) на \"2\" в столбце \"Age\"\n",
    "df['Age'].replace(9, 2, inplace=True)\n",
    "\n",
    "\n",
    "print(df.head(20))"
   ]
  },
  {
   "cell_type": "code",
   "execution_count": 3,
   "id": "cc6548b2-ac72-4d6e-99c9-9b393fab979d",
   "metadata": {
    "tags": []
   },
   "outputs": [
    {
     "name": "stdout",
     "output_type": "stream",
     "text": [
      "Уникальные значения в столбце 'surgery?':\n",
      "[ 2.  1. nan]\n",
      "\n",
      "Уникальные значения в столбце 'Age':\n",
      "[1. 2.]\n",
      "\n",
      "Уникальные значения в столбце 'rectal temperature':\n",
      "[38.5 39.2 38.3 39.1 37.3  nan 37.9 38.1 37.2 38.  38.2 37.6 37.5 39.4\n",
      " 39.9 38.4 38.6 37.8 37.7 39.  35.4 38.9 37.4 40.3 37.  39.7 38.7 36.4\n",
      " 38.8 39.6 36.8 39.5 36.5 36.  37.1 39.3 36.1 36.6 40.8 36.9 40. ]\n",
      "\n",
      "Уникальные значения в столбце 'pulse':\n",
      "[ 66.  88.  40. 164. 104.  nan  48.  60.  80.  90.  72.  42.  92.  76.\n",
      "  96. 128.  64. 110. 130. 108. 100. 112.  52. 146. 150. 120. 140.  84.\n",
      "  46. 114. 160.  54.  56.  38.  98.  50.  44.  70.  78.  49.  30. 136.\n",
      " 132.  65.  86. 129.  68.  36.  45. 124. 184.  75.  82.]\n",
      "\n",
      "Уникальные значения в столбце 'respiratory rate':\n",
      "[28. 20. 24. 84. 35. nan 16. 36. 12. 52. 48. 21. 60. 34. 42. 30. 96. 72.\n",
      " 15. 44. 32. 22. 18. 80. 40. 10. 51. 68. 66.  9. 14. 90.  8. 23. 58. 13.\n",
      " 70. 26. 88. 25. 50.]\n",
      "\n",
      "Уникальные значения в столбце 'temperature of extremities':\n",
      "[ 3. nan  1.  4.  2.]\n",
      "\n",
      "Уникальные значения в столбце 'pain':\n",
      "[ 5.  3.  2. nan  4.  1.]\n",
      "\n",
      "Уникальные значения в столбце 'outcome':\n",
      "[ 2.  3.  1. nan]\n",
      "\n"
     ]
    }
   ],
   "source": [
    "# Уникальные значения в каждом столбце. Убидимся, что значения соответствуют описанию “horse_data.names”.\n",
    "for column in df.columns:\n",
    "    unique_values = df[column].unique()\n",
    "    print(f\"Уникальные значения в столбце '{column}':\")\n",
    "    print(unique_values)\n",
    "    print()"
   ]
  },
  {
   "cell_type": "markdown",
   "id": "bd62dfe5-a382-4f3e-aa0c-b0c6a4627db8",
   "metadata": {},
   "source": [
    "**Удаляем строки.**  \n",
    "В которых отсутствуют значения сразу в 3 столбцах ('rectal temperature', 'pulse' и 'respiratory rate'), т.к. это слишком \"битые\" данные."
   ]
  },
  {
   "cell_type": "code",
   "execution_count": 4,
   "id": "3d3942a3-2ec1-4326-80a1-c1ca7ffeb4f8",
   "metadata": {
    "tags": []
   },
   "outputs": [
    {
     "name": "stdout",
     "output_type": "stream",
     "text": [
      "(300, 8)\n",
      "(285, 8)\n"
     ]
    }
   ],
   "source": [
    "df2 = df.copy()  \n",
    "df2.dropna(subset=['rectal temperature', 'pulse', 'respiratory rate'], how='all', inplace=True)\n",
    "\n",
    "print(df.shape)\n",
    "print(df2.shape)"
   ]
  },
  {
   "cell_type": "markdown",
   "id": "5e69c021-9910-41ec-bf11-6385cedd156c",
   "metadata": {},
   "source": [
    "# Обработка данных."
   ]
  },
  {
   "cell_type": "markdown",
   "id": "be2a86a2-fa09-4ac2-9a81-589509adf77b",
   "metadata": {},
   "source": [
    "## Работа с выбросами.\n",
    "\n",
    "Определяем выбросы для столбцов с температурой, частотой дыхания и пульсом через IQR. В остальных столбцах выбросов быть не может.\n",
    "\n",
    "После вывода строк с выбросами, мы видим значения температуры (35.4 - 40.8), пульса (160 - 184) и частоты дыхания (66 - 96). \n",
    "\n",
    "Основываясь на данных из открытых источников о физиологических показателях лошадей, можно сказать, что почти все значения выбросов реальны и не являются выбросами. Просто принимают крайние значения.\n",
    "\n",
    "\n",
    "\n",
    "|*Физиалогические показатели лошади*| Взрослые (норма) | Жеребята (норма) | Нижний предел | Верхний предел |\n",
    "|----------|----------|----------|----------|----------|\n",
    "| Температура | 37.2 - 38.3 | 37.5 - 38.5 | 36 | 41 |\n",
    "| Пульс | 20 - 40 | 80 - 120 | 15 | 240 |\n",
    "| Частота дыхания | 8 - 24 | 20 - 40 | 6 | 100 |"
   ]
  },
  {
   "cell_type": "code",
   "execution_count": 5,
   "id": "486b4a6f-e65c-4883-b187-4bfd64c511f3",
   "metadata": {
    "tags": []
   },
   "outputs": [
    {
     "name": "stdout",
     "output_type": "stream",
     "text": [
      "Строки с выбросами в столбце 'rectal temperature':\n",
      "     surgery?  Age  rectal temperature  pulse  respiratory rate  \\\n",
      "20        1.0  1.0                39.9   72.0              60.0   \n",
      "44        1.0  1.0                35.4  140.0              24.0   \n",
      "54        2.0  1.0                40.3  114.0              36.0   \n",
      "75        1.0  2.0                39.7  100.0               NaN   \n",
      "80        1.0  1.0                36.4   98.0              35.0   \n",
      "91        2.0  1.0                40.3  114.0              36.0   \n",
      "118       1.0  1.0                36.5   78.0              30.0   \n",
      "141       2.0  1.0                36.0   42.0              30.0   \n",
      "238       2.0  1.0                36.1   88.0               NaN   \n",
      "251       2.0  1.0                36.6   42.0              18.0   \n",
      "259       1.0  1.0                40.8   72.0              42.0   \n",
      "281       2.0  1.0                40.0   78.0               NaN   \n",
      "298       1.0  1.0                36.5  100.0              24.0   \n",
      "\n",
      "     temperature of extremities  pain  outcome  \n",
      "20                          1.0   5.0      1.0  \n",
      "44                          3.0   4.0      3.0  \n",
      "54                          3.0   2.0      3.0  \n",
      "75                          3.0   2.0      3.0  \n",
      "80                          3.0   4.0      2.0  \n",
      "91                          3.0   2.0      2.0  \n",
      "118                         1.0   5.0      1.0  \n",
      "141                         NaN   NaN      2.0  \n",
      "238                         3.0   3.0      3.0  \n",
      "251                         3.0   1.0      2.0  \n",
      "259                         3.0   2.0      2.0  \n",
      "281                         3.0   2.0      2.0  \n",
      "298                         3.0   3.0      1.0  \n",
      "\n",
      "\n",
      "Строки с выбросами в столбце 'pulse':\n",
      "     surgery?  Age  rectal temperature  pulse  respiratory rate  \\\n",
      "3         1.0  2.0                39.1  164.0              84.0   \n",
      "55        1.0  2.0                38.6  160.0              20.0   \n",
      "255       1.0  2.0                38.8  184.0              84.0   \n",
      "\n",
      "     temperature of extremities  pain  outcome  \n",
      "3                           4.0   2.0      2.0  \n",
      "55                          3.0   3.0      2.0  \n",
      "255                         1.0   4.0      2.0  \n",
      "\n",
      "Строки с выбросами в столбце 'respiratory rate':\n",
      "     surgery?  Age  rectal temperature  pulse  respiratory rate  \\\n",
      "3         1.0  2.0                39.1  164.0              84.0   \n",
      "39        1.0  2.0                39.2  146.0              96.0   \n",
      "41        2.0  2.0                39.0  150.0              72.0   \n",
      "82        1.0  2.0                38.1  100.0              80.0   \n",
      "84        1.0  1.0                37.8   60.0              80.0   \n",
      "103       1.0  2.0                38.0  140.0              68.0   \n",
      "106       1.0  1.0                38.3   52.0              96.0   \n",
      "120       1.0  1.0                39.4   54.0              66.0   \n",
      "125       1.0  1.0                38.0   42.0              68.0   \n",
      "186       1.0  1.0                39.3   64.0              90.0   \n",
      "208       1.0  1.0                37.8   88.0              80.0   \n",
      "229       1.0  2.0                38.5  120.0              70.0   \n",
      "244       1.0  2.0                38.2  124.0              88.0   \n",
      "255       1.0  2.0                38.8  184.0              84.0   \n",
      "265       2.0  1.0                 NaN   56.0              68.0   \n",
      "269       1.0  1.0                39.3   64.0              90.0   \n",
      "295       1.0  1.0                 NaN  120.0              70.0   \n",
      "\n",
      "     temperature of extremities  pain  outcome  \n",
      "3                           4.0   2.0      2.0  \n",
      "39                          NaN   NaN      2.0  \n",
      "41                          NaN   NaN      1.0  \n",
      "82                          3.0   3.0      1.0  \n",
      "84                          1.0   2.0      1.0  \n",
      "103                         1.0   3.0      1.0  \n",
      "106                         NaN   NaN      1.0  \n",
      "120                         1.0   2.0      1.0  \n",
      "125                         4.0   3.0      1.0  \n",
      "186                         2.0   NaN      1.0  \n",
      "208                         3.0   NaN      3.0  \n",
      "229                         NaN   NaN      1.0  \n",
      "244                         1.0   2.0      1.0  \n",
      "255                         1.0   4.0      2.0  \n",
      "265                         3.0   3.0      3.0  \n",
      "269                         2.0   NaN      1.0  \n",
      "295                         4.0   2.0      3.0  \n"
     ]
    }
   ],
   "source": [
    "def detect_outliers(column):\n",
    "    q1 = column.quantile(0.25)\n",
    "    q3 = column.quantile(0.75)\n",
    "    iqr = q3 - q1\n",
    "    lower_bound = q1 - (1.7 * iqr) # коэффициент 1,7 - аналог 3-х σ\n",
    "    upper_bound = q3 + (1.7 * iqr)\n",
    "    return (column < lower_bound) | (column > upper_bound)\n",
    "\n",
    "outliers_rectal_temp = detect_outliers(df2['rectal temperature'])\n",
    "outliers_pulse = detect_outliers(df2['pulse'])\n",
    "outliers_respiratory_rate = detect_outliers(df2['respiratory rate'])\n",
    "\n",
    "# Вывод строк с выбросами\n",
    "print(\"Строки с выбросами в столбце 'rectal temperature':\")\n",
    "print(df2[outliers_rectal_temp])\n",
    "print()\n",
    "print(\"\\nСтроки с выбросами в столбце 'pulse':\")\n",
    "print(df2[outliers_pulse])\n",
    "print()\n",
    "print(\"Строки с выбросами в столбце 'respiratory rate':\")\n",
    "print(df2[outliers_respiratory_rate])"
   ]
  },
  {
   "cell_type": "markdown",
   "id": "ca51ef34-20d2-4ca7-98bd-dc0ab93788ea",
   "metadata": {},
   "source": [
    "Поэтому вручную зададим границы выбросов. Если какое-то значение выйдет за них, заменим его на ближайшее допустимое."
   ]
  },
  {
   "cell_type": "code",
   "execution_count": 6,
   "id": "5425660f-da09-41cf-a326-3a01744db639",
   "metadata": {
    "tags": []
   },
   "outputs": [
    {
     "name": "stdout",
     "output_type": "stream",
     "text": [
      "36.0 40.8\n",
      "30.0 184.0\n",
      "8.0 96.0\n",
      "(285, 8)\n"
     ]
    }
   ],
   "source": [
    "# Метод .clip() в Pandas используется для ограничения значений. Все значения, которые меньше или больше, будут заменены.\n",
    "\n",
    "df2['rectal temperature'] = df2['rectal temperature'].clip(lower=36, upper=41)\n",
    "df2['pulse'] = df['pulse'].clip(lower=15, upper=240)\n",
    "df2['respiratory rate'] = df2['respiratory rate'].clip(lower=6, upper=100)\n",
    "\n",
    "print(df2['rectal temperature'].min(), df2['rectal temperature'].max())\n",
    "print(df2['pulse'].min(), df2['pulse'].max())\n",
    "print(df2['respiratory rate'].min(), df2['respiratory rate'].max())\n",
    "print(df2.shape)"
   ]
  },
  {
   "cell_type": "markdown",
   "id": "52f95765-99a0-43a9-b880-5e1b2b3872f1",
   "metadata": {},
   "source": [
    "## Работа с пропусками."
   ]
  },
  {
   "cell_type": "code",
   "execution_count": 7,
   "id": "2d4a5c8a-9a23-4b72-b741-81b54d40c37f",
   "metadata": {
    "tags": []
   },
   "outputs": [
    {
     "name": "stdout",
     "output_type": "stream",
     "text": [
      "surgery?                       1\n",
      "Age                            0\n",
      "rectal temperature            45\n",
      "pulse                          9\n",
      "respiratory rate              43\n",
      "temperature of extremities    47\n",
      "pain                          47\n",
      "outcome                        1\n",
      "dtype: int64\n"
     ]
    }
   ],
   "source": [
    "# Кол-во пропусков в столбцах\n",
    "print(df2.isna().sum())"
   ]
  },
  {
   "cell_type": "markdown",
   "id": "f733e07e-8d17-491d-9b4f-c9fc7a0e64ef",
   "metadata": {},
   "source": [
    "Заполнение пропусков средним значением искажает данные, т.к. данные распределены ненормально. Заполнение с помощью медианы - не отражает реальной картины. \n",
    "Поэтому я решил поэтапно заполнить пропуски, основываясь на связи рядов данных.\n",
    "\n",
    "Для начала выделим самые важные столбцы - температура, пульс и частота дыхания. По логике, эти 3 столбца должны иметь хорошую корреляцию, но тесты показывают слабую корреляцию. Это может быть связанно с малым количеством данных или с тем, что данные могли быть плохо сгенерированны."
   ]
  },
  {
   "cell_type": "code",
   "execution_count": 8,
   "id": "f939c907-b748-4683-bdb9-6c18ed921ff8",
   "metadata": {
    "tags": []
   },
   "outputs": [
    {
     "name": "stdout",
     "output_type": "stream",
     "text": [
      "Коэффициент корреляции Спирмена между 'rectal temperature' и 'pulse': 0.23615187291479578\n",
      "Коэффициент корреляции Спирмена между 'rectal temperature' и 'respiratory rate': 0.23077156863115927\n",
      "Коэффициент корреляции Спирмена между 'respiratory rate' и 'pulse': 0.4724634525261959\n"
     ]
    }
   ],
   "source": [
    "# Расчет коэффициента корреляции Спирмена\n",
    "\n",
    "spearman_corr = df2['rectal temperature'].corr(df2['pulse'], method='spearman')\n",
    "spearman_corr2 = df2['rectal temperature'].corr(df2['respiratory rate'], method='spearman')\n",
    "spearman_corr3 = df2['pulse'].corr(df2['respiratory rate'], method='spearman')\n",
    "\n",
    "print(f\"Коэффициент корреляции Спирмена между 'rectal temperature' и 'pulse': {spearman_corr}\")\n",
    "print(f\"Коэффициент корреляции Спирмена между 'rectal temperature' и 'respiratory rate': {spearman_corr2}\")\n",
    "print(f\"Коэффициент корреляции Спирмена между 'respiratory rate' и 'pulse': {spearman_corr3}\")"
   ]
  },
  {
   "cell_type": "markdown",
   "id": "856b0a3f-013a-4cd3-9267-0e952b9a95bf",
   "metadata": {},
   "source": [
    "Столбец 'pulse' будет стартовой точкой, т.к. имеет мало пропусков, мало выбросов и хороший коэффициент корреляции с 'respiratory rate'. \n",
    "\n",
    "Чтобы заполнить пропуски пульса, я найду среднее отношение пульса к частоте дыхания (ЧД), а затем помножу ЧД на этот коэффициент в местах пропусков.\n",
    "Чтобы повысить точность, разделю данные на 2 группы: выжившие и не выжившие. "
   ]
  },
  {
   "cell_type": "code",
   "execution_count": 9,
   "id": "6aa7c215-86c1-47fd-b444-6612f640d1cb",
   "metadata": {
    "tags": []
   },
   "outputs": [
    {
     "name": "stdout",
     "output_type": "stream",
     "text": [
      "Среднее отношение пульса к частоте дыхания для группы outcome = 1: 2.6431764960257604\n",
      "Среднее отношение пульса к частоте дыхания для группы outcome != 1: 2.9799656532346246\n"
     ]
    }
   ],
   "source": [
    "# Рассчитываем новый столбц\n",
    "df2['pulse to respiration ratio'] = df2['pulse'] / df2['respiratory rate']\n",
    "\n",
    "# Разделяем DataFrame на две группы в зависимости от 'outcome'\n",
    "alife = df2[df2['outcome'] == 1]\n",
    "not_alive = df2[df2['outcome'] != 1]\n",
    "\n",
    "# Рассчитываем средние значения для всех новых столбцов для каждой группы\n",
    "avg_pulse_respiration_alive = alife['pulse to respiration ratio'].mean()\n",
    "avg_pulse_respiration_not_alive = not_alive['pulse to respiration ratio'].mean()\n",
    "\n",
    "\n",
    "# Выводим результаты\n",
    "print(\"Среднее отношение пульса к частоте дыхания для группы outcome = 1:\", avg_pulse_respiration_alive)\n",
    "print(\"Среднее отношение пульса к частоте дыхания для группы outcome != 1:\", avg_pulse_respiration_not_alive)"
   ]
  },
  {
   "cell_type": "code",
   "execution_count": 10,
   "id": "566763cf-84fa-4680-b39a-e5283f3d403e",
   "metadata": {
    "tags": []
   },
   "outputs": [
    {
     "name": "stdout",
     "output_type": "stream",
     "text": [
      "surgery?                       1\n",
      "Age                            0\n",
      "rectal temperature            45\n",
      "pulse                          3\n",
      "respiratory rate              43\n",
      "temperature of extremities    47\n",
      "pain                          47\n",
      "outcome                        1\n",
      "pulse to respiration ratio    49\n",
      "dtype: int64\n"
     ]
    }
   ],
   "source": [
    "# Замена пропусков в 'pulse'\n",
    "\n",
    "def replace_pulse(row):\n",
    "    if pd.isna(row['pulse']):\n",
    "        if row['outcome'] == 1:\n",
    "                return row['respiratory rate'] * avg_pulse_respiration_alive\n",
    "        else:\n",
    "             return row['respiratory rate'] * avg_pulse_respiration_not_alive\n",
    "    else:\n",
    "        return row['pulse']\n",
    "    \n",
    "# Применяем функцию replace_pulse для замены пропусков в 'pulse'\n",
    "df2['pulse'] = df2.apply(replace_pulse, axis=1)\n",
    "\n",
    "print(df2.isna().sum())"
   ]
  },
  {
   "cell_type": "markdown",
   "id": "423170c7-3a21-4740-87f8-7f6aa9f28a02",
   "metadata": {},
   "source": [
    "Оставшиеся пропуски заменим на значения моды, т.к. в этих строках отсутствуют значения в столбце 'respiratory rate'."
   ]
  },
  {
   "cell_type": "code",
   "execution_count": 11,
   "id": "999ecf15-76d1-411b-b79f-085fe2d64b81",
   "metadata": {
    "tags": []
   },
   "outputs": [
    {
     "name": "stdout",
     "output_type": "stream",
     "text": [
      "surgery?                       1\n",
      "Age                            0\n",
      "rectal temperature            45\n",
      "pulse                          0\n",
      "respiratory rate              43\n",
      "temperature of extremities    47\n",
      "pain                          47\n",
      "outcome                        1\n",
      "pulse to respiration ratio    49\n",
      "dtype: int64\n"
     ]
    }
   ],
   "source": [
    "pulse_mode = df2['pulse'].mode().iloc[0] if not df2['pulse'].mode().empty else np.nan\n",
    "\n",
    "df2['pulse'].fillna(pulse_mode, inplace=True)\n",
    "\n",
    "print(df2.isna().sum())"
   ]
  },
  {
   "cell_type": "markdown",
   "id": "e59f96f4-247c-442f-84c1-b8bebfe01094",
   "metadata": {},
   "source": [
    "Теперь заполним пропуски в 'respiratory rate' таким же способом. "
   ]
  },
  {
   "cell_type": "code",
   "execution_count": 12,
   "id": "b099448a-ed4b-4f95-a004-c9ea931a2423",
   "metadata": {
    "tags": []
   },
   "outputs": [
    {
     "name": "stdout",
     "output_type": "stream",
     "text": [
      "surgery?                       1\n",
      "Age                            0\n",
      "rectal temperature            45\n",
      "pulse                          0\n",
      "respiratory rate               0\n",
      "temperature of extremities    47\n",
      "pain                          47\n",
      "outcome                        1\n",
      "pulse to respiration ratio    49\n",
      "dtype: int64\n"
     ]
    }
   ],
   "source": [
    "def replace_respiration(row):\n",
    "    if pd.isna(row['respiratory rate']):\n",
    "        if row['outcome'] == 1:\n",
    "            return row['pulse'] / avg_pulse_respiration_alive\n",
    "        else:\n",
    "            return row['pulse'] / avg_pulse_respiration_not_alive\n",
    "    else:\n",
    "        return row['respiratory rate']\n",
    "\n",
    "df2['respiratory rate'] = df2.apply(replace_respiration, axis=1)\n",
    "\n",
    "print(df2.isna().sum())"
   ]
  },
  {
   "cell_type": "markdown",
   "id": "26716552-c0e1-4527-98f4-56ca3865dbb9",
   "metadata": {},
   "source": [
    "Для замены пропусков в 'rectal temperature' данный способ не подойдет, т.к. у этого столбца очень слабая корреляция с остальными столбцами, что может привести к аномальным значениям. Например, температура тела в 16°.\n",
    "\n",
    "Поскольку распределение данных температуры близко к нормальному, заменим пропуски на значение среднего арифметического для каждой группы.  "
   ]
  },
  {
   "cell_type": "code",
   "execution_count": 13,
   "id": "76a5014a-026c-4d73-ad4d-1e396d7678a8",
   "metadata": {
    "tags": []
   },
   "outputs": [
    {
     "name": "stdout",
     "output_type": "stream",
     "text": [
      "surgery?                       1\n",
      "Age                            0\n",
      "rectal temperature             0\n",
      "pulse                          0\n",
      "respiratory rate               0\n",
      "temperature of extremities    47\n",
      "pain                          47\n",
      "outcome                        1\n",
      "pulse to respiration ratio    49\n",
      "dtype: int64\n"
     ]
    }
   ],
   "source": [
    "# Вычисляем среднее арифметическое для групп выжившие и не выжившие\n",
    "\n",
    "mean_temp_alive = df[df['outcome'] == 1]['rectal temperature'].mean()\n",
    "mean_temp_not_alive = df[df['outcome'] != 1]['rectal temperature'].mean()\n",
    "\n",
    "def replace_temperature(row):\n",
    "    if pd.isna(row['rectal temperature']):\n",
    "        if row['outcome'] == 1:\n",
    "            return mean_temp_alive\n",
    "        else:\n",
    "            return mean_temp_not_alive\n",
    "    return row['rectal temperature']\n",
    "\n",
    "# Применяем функцию replace_temperature для замены пропусков в 'rectal temperature'\n",
    "df2['rectal temperature'] = df2.apply(replace_temperature, axis=1)\n",
    "\n",
    "# Выводим результат\n",
    "print(df2.isna().sum())"
   ]
  },
  {
   "cell_type": "markdown",
   "id": "b080b39b-762a-405b-b67d-a56342f646e3",
   "metadata": {},
   "source": [
    "Для заполнения пропусков в 'temperature of extremities' воспользуемся тем же методом, что и с 'respiratory rate', т.к. температура конечностей тоже имеет хорошую корреляцию с пульсом. Даже лучше чем с температурой тела."
   ]
  },
  {
   "cell_type": "code",
   "execution_count": 14,
   "id": "092bf3dc-6892-438a-8bd1-c25cd0dd0ca3",
   "metadata": {
    "tags": []
   },
   "outputs": [
    {
     "name": "stdout",
     "output_type": "stream",
     "text": [
      "Коэффициент корреляции Спирмена между 'temperature of extremities' и 'pulse': 0.35056711140045627\n",
      "Коэффициент корреляции Спирмена между 'temperature of extremities' и 'rectal temperature': 0.0687371932881639\n"
     ]
    }
   ],
   "source": [
    "# Расчет коэффициента корреляции Спирмена\n",
    "spearman_corr4 = df2['temperature of extremities'].corr(df2['pulse'], method='spearman')\n",
    "spearman_corr5 = df2['temperature of extremities'].corr(df2['rectal temperature'], method='spearman')\n",
    "\n",
    "print(f\"Коэффициент корреляции Спирмена между 'temperature of extremities' и 'pulse': {spearman_corr4}\")\n",
    "print(f\"Коэффициент корреляции Спирмена между 'temperature of extremities' и 'rectal temperature': {spearman_corr5}\")"
   ]
  },
  {
   "cell_type": "code",
   "execution_count": 15,
   "id": "0e30a11b-75a9-4af9-886e-a4571738f648",
   "metadata": {
    "tags": []
   },
   "outputs": [
    {
     "name": "stdout",
     "output_type": "stream",
     "text": [
      "Среднее отношение пульса к температурt конечностей 37.89693600736741\n"
     ]
    }
   ],
   "source": [
    "# Рассчитываем новые столбцы\n",
    "df2['pulse to temperature of extremities'] = df2['pulse'] / df2['temperature of extremities']\n",
    "\n",
    "# Рассчитываем средние значения\n",
    "avg_pulse_extremities = df2['pulse to temperature of extremities'].mean()\n",
    "\n",
    "print(\"Среднее отношение пульса к температурt конечностей\", avg_pulse_extremities)"
   ]
  },
  {
   "cell_type": "code",
   "execution_count": 16,
   "id": "41b8f601-0f50-4b1b-bb75-ae705d6c3756",
   "metadata": {
    "tags": []
   },
   "outputs": [
    {
     "name": "stdout",
     "output_type": "stream",
     "text": [
      "surgery?                                1\n",
      "Age                                     0\n",
      "rectal temperature                      0\n",
      "pulse                                   0\n",
      "respiratory rate                        0\n",
      "temperature of extremities              0\n",
      "pain                                   47\n",
      "outcome                                 1\n",
      "pulse to respiration ratio             49\n",
      "pulse to temperature of extremities    47\n",
      "dtype: int64\n"
     ]
    }
   ],
   "source": [
    "# Замена пропусков в 'temperature of extremities'\n",
    "# Функци возвращает значения от 1 до 4, т.к. это ограничение столбца. \n",
    "def replace_extremities(row):\n",
    "    if pd.isna(row['temperature of extremities']):\n",
    "        temp_ext = round(row['pulse'] / avg_pulse_extremities)\n",
    "        if temp_ext > 4:\n",
    "            return 4\n",
    "        elif temp_ext < 1:\n",
    "            return 1\n",
    "        else:\n",
    "            return temp_ext\n",
    "    return row['temperature of extremities']\n",
    "\n",
    "# Применяем функцию для замены пропусков\n",
    "df2['temperature of extremities'] = df2.apply(replace_extremities, axis=1)\n",
    "\n",
    "print(df2.isna().sum())"
   ]
  },
  {
   "cell_type": "markdown",
   "id": "2c7f6aa5-2355-4888-81ae-1effd91a0ff4",
   "metadata": {},
   "source": [
    "Для заполнения пропусков в столбце 'pain' проверим корреляцию с остальными столбцами."
   ]
  },
  {
   "cell_type": "code",
   "execution_count": 17,
   "id": "4ad668d5-98e2-44a9-aa7c-2951127a2aef",
   "metadata": {
    "tags": []
   },
   "outputs": [
    {
     "name": "stdout",
     "output_type": "stream",
     "text": [
      "Коэффициент корреляции Спирмена между 'pain' и 'surgery?': -0.3138\n",
      "Коэффициент корреляции Спирмена между 'pain' и 'Age': 0.0347\n",
      "Коэффициент корреляции Спирмена между 'pain' и 'rectal temperature': -0.0953\n",
      "Коэффициент корреляции Спирмена между 'pain' и 'pulse': 0.3434\n",
      "Коэффициент корреляции Спирмена между 'pain' и 'respiratory rate': 0.1940\n",
      "Коэффициент корреляции Спирмена между 'pain' и 'temperature of extremities': 0.2718\n",
      "Коэффициент корреляции Спирмена между 'pain' и 'outcome': 0.3413\n"
     ]
    }
   ],
   "source": [
    "# Расчет коэффициента корреляции Спирмена\n",
    "columns_to_compare = ['surgery?', 'Age', 'rectal temperature', 'pulse', 'respiratory rate', 'temperature of extremities', 'outcome']\n",
    "\n",
    "# Создание словаря для хранения коэффициентов корреляции\n",
    "correlations = {}\n",
    "\n",
    "# Вычисление коэффициента корреляции Спирмена для каждого столбца с 'pain'\n",
    "for column in columns_to_compare:\n",
    "    spearman_corr = df['pain'].corr(df[column], method='spearman')\n",
    "    correlations[column] = spearman_corr\n",
    "\n",
    "# Вывод результатов\n",
    "for column, corr in correlations.items():\n",
    "    print(f\"Коэффициент корреляции Спирмена между 'pain' и '{column}': {corr:.4f}\")"
   ]
  },
  {
   "cell_type": "markdown",
   "id": "f5410eea-134d-470b-87d4-3616ad8b893c",
   "metadata": {},
   "source": [
    "Опять видим достаточную кореляцию с 'pulse', поэтому заполним также как 'temperature of extremities'."
   ]
  },
  {
   "cell_type": "code",
   "execution_count": 18,
   "id": "0601e8e2-8cdd-4dd6-934c-e0243a225ffc",
   "metadata": {
    "tags": []
   },
   "outputs": [
    {
     "name": "stdout",
     "output_type": "stream",
     "text": [
      "Среднее отношение пульса к боли 29.491500882322008\n"
     ]
    }
   ],
   "source": [
    "# Рассчитываем новые столбцы\n",
    "df2['pulse to pain'] = df2['pulse'] / df2['pain']\n",
    "\n",
    "# Рассчитываем средние значения\n",
    "avg_pulse_pain = df2['pulse to pain'].mean()\n",
    "\n",
    "print(\"Среднее отношение пульса к боли\", avg_pulse_pain)"
   ]
  },
  {
   "cell_type": "code",
   "execution_count": 19,
   "id": "136434f8-f865-4a38-8940-9872ff56b189",
   "metadata": {
    "tags": []
   },
   "outputs": [
    {
     "name": "stdout",
     "output_type": "stream",
     "text": [
      "surgery?                                1\n",
      "Age                                     0\n",
      "rectal temperature                      0\n",
      "pulse                                   0\n",
      "respiratory rate                        0\n",
      "temperature of extremities              0\n",
      "pain                                    0\n",
      "outcome                                 1\n",
      "pulse to respiration ratio             49\n",
      "pulse to temperature of extremities    47\n",
      "pulse to pain                          47\n",
      "dtype: int64\n"
     ]
    }
   ],
   "source": [
    "# Замена пропусков в 'pain'\n",
    "# Функци возвращает значения от 1 до 5, т.к. это ограничение столбца.\n",
    "def replace_pain(row):\n",
    "    if pd.isna(row['pain']):\n",
    "        pain_ = round(row['pulse'] / avg_pulse_pain)\n",
    "        if pain_ > 5:\n",
    "            return 5\n",
    "        elif pain_ < 1:\n",
    "            return 1\n",
    "        else:\n",
    "            return pain_\n",
    "    return row['pain']\n",
    "\n",
    "# Применяем функцию для замены пропусков\n",
    "df2['pain'] = df2.apply(replace_pain, axis=1)\n",
    "\n",
    "print(df2.isna().sum())"
   ]
  },
  {
   "cell_type": "markdown",
   "id": "c2873794-6589-4b1a-9e97-4856392ff7b5",
   "metadata": {},
   "source": [
    "Пропуски остались только в 2-х столбцах одной строки.\n",
    "\n",
    "Имея множество данных в таблице, можно предсказать вероятные значения в 'surgery' и 'outcome'."
   ]
  },
  {
   "cell_type": "code",
   "execution_count": 22,
   "id": "6b2f7055-6bf2-4d77-b68a-79f3e3c8f107",
   "metadata": {
    "tags": []
   },
   "outputs": [
    {
     "name": "stdout",
     "output_type": "stream",
     "text": [
      "Строки с пропущенными значениями (NaN):\n",
      "     surgery?  Age  rectal temperature  pulse  respiratory rate  \\\n",
      "132       NaN  1.0                38.0   48.0              20.0   \n",
      "\n",
      "     temperature of extremities  pain  outcome  pulse to respiration ratio  \\\n",
      "132                         3.0   4.0      NaN                         2.4   \n",
      "\n",
      "     pulse to temperature of extremities  pulse to pain  \n",
      "132                                 16.0           12.0  \n"
     ]
    }
   ],
   "source": [
    "# Обнуляем NaN в новых столбцах\n",
    "df2['pulse to respiration ratio'] = df2['pulse'] / df2['respiratory rate']\n",
    "df2['pulse to temperature of extremities'] = df2['pulse'] / df2['temperature of extremities']\n",
    "df2['pulse to pain'] = df2['pulse'] / df2['pain']\n",
    "\n",
    "# Выводим строки с NaN\n",
    "rows_with_nan = df2[df2.isna().any(axis=1)]\n",
    "\n",
    "print(\"Строки с пропущенными значениями (NaN):\")\n",
    "print(rows_with_nan)"
   ]
  },
  {
   "cell_type": "code",
   "execution_count": 23,
   "id": "a7ec31b3-a55a-4240-ae19-a6c92ea3ac10",
   "metadata": {
    "tags": []
   },
   "outputs": [
    {
     "name": "stdout",
     "output_type": "stream",
     "text": [
      "Коэффициент корреляции Спирмена между 'outcome' и 'surgery?': -0.14498254920126963\n"
     ]
    }
   ],
   "source": [
    "# Расчет коэффициента корреляции Спирмена\n",
    "spearman_corr6 = df2['outcome'].corr(df2['surgery?'], method='spearman')\n",
    "\n",
    "print(f\"Коэффициент корреляции Спирмена между 'outcome' и 'surgery?': {spearman_corr6}\")"
   ]
  },
  {
   "cell_type": "markdown",
   "id": "3ae43f4c-fb1d-4567-83bd-459c9c2886ad",
   "metadata": {},
   "source": [
    "Корреляция между этими столбцами слабая, поэтому проведем расчеты вероятных значений в этих столбцах не зависимо друг от друга. "
   ]
  },
  {
   "cell_type": "markdown",
   "id": "54e33ed2-0f0e-424d-9fb1-b67dcfc242a5",
   "metadata": {},
   "source": [
    "Алгоритм расчета:\n",
    "\n",
    "- Создадим столбцы \"веса\", перемножив все столбцы, кроме искомых;\n",
    "- Вычислим средний \"вес\";\n",
    "- Делим данные на 2 группы (больше среднего и меньше или равно среднему);\n",
    "- Рассчитаем средние для каждой группы в столбцах 'surgery?' и 'outcome';\n",
    "- Заменяем пропуски на среднее значение, в зависомости от \"веса\". "
   ]
  },
  {
   "cell_type": "code",
   "execution_count": 26,
   "id": "b826aaf5-d844-4273-adca-8085360e93aa",
   "metadata": {
    "tags": []
   },
   "outputs": [
    {
     "name": "stdout",
     "output_type": "stream",
     "text": [
      "Группа 1 (вес больше среднего значения):\n",
      "\n",
      "\n",
      "Среднее значение 'surgery': 1.3012048192771084\n",
      "Мода 'surgery': 1.0\n",
      "Среднее значение 'outcome': 1.8313253012048192\n",
      "Мода 'outcome': 2.0\n",
      "\n",
      "\n",
      "Группа 2 (вес меньше или равен среднему значению):\n",
      "\n",
      "\n",
      "Среднее значение 'surgery': 1.4427860696517414\n",
      "Мода 'surgery': 1.0\n",
      "Среднее значение 'outcome': 1.4427860696517414\n",
      "Мода 'outcome': 1.0\n"
     ]
    }
   ],
   "source": [
    "# Создание столбца \"веса\"\n",
    "\n",
    "df2['weight'] = df2['Age'] * df2['rectal temperature'] * df2['pulse'] * df2['respiratory rate'] * df2['temperature of extremities'] * df2['pain']\n",
    "\n",
    "# Значение среднего \"веса\"\n",
    "mean_weight = df2['weight'].mean()\n",
    "\n",
    "# Создаем две группы данных\n",
    "group1 = df2[df2['weight'] > mean_weight]\n",
    "group2 = df2[df2['weight'] <= mean_weight]\n",
    "\n",
    "# Рассчитываем среднее значение и моду для каждой группы в столбцах 'surgery?' и 'outcome'\n",
    "mean_surgery_group1 = group1['surgery?'].mean()\n",
    "mean_surgery_group2 = group2['surgery?'].mean()\n",
    "mean_outcome_group1 = group1['outcome'].mean()\n",
    "mean_outcome_group2 = group2['outcome'].mean()\n",
    "\n",
    "mode_surgery_group1 = group1['surgery?'].mode()[0]\n",
    "mode_surgery_group2 = group2['surgery?'].mode()[0]\n",
    "mode_outcome_group1 = group1['outcome'].mode()[0]\n",
    "mode_outcome_group2 = group2['outcome'].mode()[0]\n",
    "\n",
    "print(\"Группа 1 (вес больше среднего значения):\")\n",
    "print(\"\\n\")\n",
    "print(f\"Среднее значение 'surgery': {mean_surgery_group1}\")\n",
    "print(f\"Мода 'surgery': {mode_surgery_group1}\")\n",
    "print(f\"Среднее значение 'outcome': {mean_outcome_group1}\")\n",
    "print(f\"Мода 'outcome': {mode_outcome_group1}\")\n",
    "print(\"\\n\")\n",
    "\n",
    "print(\"Группа 2 (вес меньше или равен среднему значению):\")\n",
    "print(\"\\n\")\n",
    "print(f\"Среднее значение 'surgery': {mean_surgery_group2}\")\n",
    "print(f\"Мода 'surgery': {mode_surgery_group2}\")\n",
    "print(f\"Среднее значение 'outcome': {mean_outcome_group2}\")\n",
    "print(f\"Мода 'outcome': {mode_outcome_group2}\")"
   ]
  },
  {
   "cell_type": "code",
   "execution_count": 27,
   "id": "428be7f3-683b-4afd-825b-e1aac794673a",
   "metadata": {
    "tags": []
   },
   "outputs": [
    {
     "name": "stdout",
     "output_type": "stream",
     "text": [
      "surgery?                               0\n",
      "Age                                    0\n",
      "rectal temperature                     0\n",
      "pulse                                  0\n",
      "respiratory rate                       0\n",
      "temperature of extremities             0\n",
      "pain                                   0\n",
      "outcome                                0\n",
      "pulse to respiration ratio             0\n",
      "pulse to temperature of extremities    0\n",
      "pulse to pain                          0\n",
      "weight                                 0\n",
      "dtype: int64\n"
     ]
    }
   ],
   "source": [
    "# Замена пропусков в 'surgery' и 'outcome'\n",
    "\n",
    "def replace_surgery_outcome(row):\n",
    "    if row['weight'] > mean_weight:\n",
    "        if pd.isnull(row['surgery?']):\n",
    "            row['surgery?'] = mode_surgery_group1\n",
    "        if pd.isnull(row['outcome']):\n",
    "            row['outcome'] = mode_outcome_group1\n",
    "    else:\n",
    "        if pd.isnull(row['surgery?']):\n",
    "            row['surgery?'] = mode_surgery_group2\n",
    "        if pd.isnull(row['outcome']):\n",
    "            row['outcome'] = mode_outcome_group2\n",
    "    return row\n",
    "\n",
    "# Применение функции к DataFrame\n",
    "df2 = df2.apply(replace_surgery_outcome, axis=1)\n",
    "\n",
    "# Выводим результат\n",
    "print(df2.isna().sum())"
   ]
  },
  {
   "cell_type": "markdown",
   "id": "e08da9f7-0b1a-43af-b797-242740a50a88",
   "metadata": {},
   "source": [
    "## Итоги.\n",
    "\n",
    "После заполнения пропусков сравним основные статистики новой и старой таблиц, а также их диаграммы."
   ]
  },
  {
   "cell_type": "code",
   "execution_count": 28,
   "id": "45e0543b-92ba-4cab-823a-17008afbc2ac",
   "metadata": {
    "tags": []
   },
   "outputs": [
    {
     "name": "stdout",
     "output_type": "stream",
     "text": [
      "Статистика для df:\n",
      "        surgery?   Age  rectal temperature       pulse  respiratory rate  \\\n",
      "min     1.000000  1.00           35.400000   30.000000          8.000000   \n",
      "max     2.000000  2.00           40.800000  184.000000         96.000000   \n",
      "range   1.000000  1.00            5.400000  154.000000         88.000000   \n",
      "mean    1.397993  1.08           38.167917   71.913043         30.417355   \n",
      "median  1.000000  1.00           38.200000   64.000000         24.500000   \n",
      "mode    1.000000  1.00           38.000000   48.000000         20.000000   \n",
      "\n",
      "        temperature of extremities     pain   outcome  \n",
      "min                       1.000000  1.00000  1.000000  \n",
      "max                       4.000000  5.00000  3.000000  \n",
      "range                     3.000000  4.00000  2.000000  \n",
      "mean                      2.348361  2.95102  1.551839  \n",
      "median                    3.000000  3.00000  1.000000  \n",
      "mode                      3.000000  3.00000  1.000000  \n",
      "\n",
      "Статистика для df2:\n",
      "        surgery?       Age  rectal temperature       pulse  respiratory rate  \\\n",
      "min          1.0  1.000000           36.000000   30.000000          8.000000   \n",
      "max          2.0  2.000000           40.800000  184.000000         96.000000   \n",
      "range        1.0  1.000000            4.800000  154.000000         88.000000   \n",
      "mean         1.4  1.077193           38.167724   71.553951         29.832477   \n",
      "median       1.0  1.000000           38.128409   64.000000         25.503650   \n",
      "mode         1.0  1.000000           38.128409   48.000000         20.000000   \n",
      "\n",
      "        temperature of extremities      pain   outcome  \n",
      "min                       1.000000  1.000000  1.000000  \n",
      "max                       4.000000  5.000000  3.000000  \n",
      "range                     3.000000  4.000000  2.000000  \n",
      "mean                      2.245614  2.838596  1.554386  \n",
      "median                    2.000000  3.000000  1.000000  \n",
      "mode                      3.000000  2.000000  1.000000  \n"
     ]
    }
   ],
   "source": [
    "# Обозначаем интересующие нас столбцы\n",
    "columns_of_interest = [\n",
    "    'surgery?', 'Age', 'rectal temperature', 'pulse', \n",
    "    'respiratory rate', 'temperature of extremities', \n",
    "    'pain', 'outcome'\n",
    "]\n",
    "\n",
    "# Функция для вычисления статистических показателей\n",
    "def calculate_statistics(df, columns):\n",
    "    stats = {}\n",
    "    for column in columns:\n",
    "        stats[column] = {\n",
    "            'min': df[column].min(),\n",
    "            'max': df[column].max(),\n",
    "            'range': df[column].max() - df[column].min(),\n",
    "            'mean': df[column].mean(),\n",
    "            'median': df[column].median(),\n",
    "            'mode': df[column].mode()[0] if not df[column].mode().empty else np.nan\n",
    "        }\n",
    "    return pd.DataFrame(stats)\n",
    "\n",
    "# Вычисляем статистику для обоих DataFrame\n",
    "stats_df1 = calculate_statistics(df, columns_of_interest)\n",
    "stats_df2 = calculate_statistics(df2, columns_of_interest)\n",
    "\n",
    "# Вывод статистики для сравнения\n",
    "print(\"Статистика для df:\")\n",
    "print(stats_df1)\n",
    "print(\"\\nСтатистика для df2:\")\n",
    "print(stats_df2)"
   ]
  },
  {
   "cell_type": "code",
   "execution_count": 29,
   "id": "543ccc17-ae10-452b-831c-c20a36a100a0",
   "metadata": {
    "tags": []
   },
   "outputs": [
    {
     "name": "stderr",
     "output_type": "stream",
     "text": [
      "C:\\Users\\AAA\\anaconda3\\Lib\\site-packages\\seaborn\\_oldcore.py:1119: FutureWarning: use_inf_as_na option is deprecated and will be removed in a future version. Convert inf values to NaN before operating instead.\n",
      "  with pd.option_context('mode.use_inf_as_na', True):\n",
      "C:\\Users\\AAA\\anaconda3\\Lib\\site-packages\\seaborn\\_oldcore.py:1119: FutureWarning: use_inf_as_na option is deprecated and will be removed in a future version. Convert inf values to NaN before operating instead.\n",
      "  with pd.option_context('mode.use_inf_as_na', True):\n",
      "C:\\Users\\AAA\\anaconda3\\Lib\\site-packages\\seaborn\\_oldcore.py:1119: FutureWarning: use_inf_as_na option is deprecated and will be removed in a future version. Convert inf values to NaN before operating instead.\n",
      "  with pd.option_context('mode.use_inf_as_na', True):\n",
      "C:\\Users\\AAA\\anaconda3\\Lib\\site-packages\\seaborn\\_oldcore.py:1119: FutureWarning: use_inf_as_na option is deprecated and will be removed in a future version. Convert inf values to NaN before operating instead.\n",
      "  with pd.option_context('mode.use_inf_as_na', True):\n",
      "C:\\Users\\AAA\\anaconda3\\Lib\\site-packages\\seaborn\\_oldcore.py:1119: FutureWarning: use_inf_as_na option is deprecated and will be removed in a future version. Convert inf values to NaN before operating instead.\n",
      "  with pd.option_context('mode.use_inf_as_na', True):\n",
      "C:\\Users\\AAA\\anaconda3\\Lib\\site-packages\\seaborn\\_oldcore.py:1119: FutureWarning: use_inf_as_na option is deprecated and will be removed in a future version. Convert inf values to NaN before operating instead.\n",
      "  with pd.option_context('mode.use_inf_as_na', True):\n"
     ]
    },
    {
     "data": {
      "image/png": "[encoded data removed]",
      "text/plain": [
       "<Figure size 1500x1000 with 6 Axes>"
      ]
     },
     "metadata": {},
     "output_type": "display_data"
    }
   ],
   "source": [
    "import seaborn as sns\n",
    "\n",
    "# Список интересующих столбцов\n",
    "columns = ['rectal temperature', 'pulse', 'respiratory rate']\n",
    "\n",
    "# Настройка размера графиков\n",
    "plt.figure(figsize=(15, 10))\n",
    "\n",
    "# Перебираем все столбцы и строим диаграммы распределения\n",
    "for i, col in enumerate(columns):\n",
    "    plt.subplot(2, 3, i + 1)\n",
    "    sns.histplot(df[col].dropna(), kde=True, color='blue', label='df', stat='density')\n",
    "    plt.title(f'{col} - df')\n",
    "    plt.xlabel(col)\n",
    "    plt.ylabel('Density')\n",
    "\n",
    "    plt.subplot(2, 3, i + 4)\n",
    "    sns.histplot(df2[col].dropna(), kde=True, color='orange', label='df2', stat='density')\n",
    "    plt.title(f'{col} - df2')\n",
    "    plt.xlabel(col)\n",
    "    plt.ylabel('Density')\n",
    "\n",
    "# Настройка отображения легенды и компоновки графиков\n",
    "plt.tight_layout()\n",
    "plt.legend()\n",
    "plt.show()"
   ]
  },
  {
   "cell_type": "markdown",
   "id": "9a8fec50-bb6d-4d7f-8ca0-53fe2b04719e",
   "metadata": {},
   "source": [
    "Как видно на графиках, форма распределения практически не изменилась."
   ]
  }
 ],
 "metadata": {
  "kernelspec": {
   "display_name": "Python 3 (ipykernel)",
   "language": "python",
   "name": "python3"
  },
  "language_info": {
   "codemirror_mode": {
    "name": "ipython",
    "version": 3
   },
   "file_extension": ".py",
   "mimetype": "text/x-python",
   "name": "python",
   "nbconvert_exporter": "python",
   "pygments_lexer": "ipython3",
   "version": "3.11.7"
  }
 },
 "nbformat": 4,
 "nbformat_minor": 5
}
