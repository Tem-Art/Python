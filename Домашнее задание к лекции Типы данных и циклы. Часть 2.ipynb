{
 "cells": [
  {
   "cell_type": "code",
   "execution_count": 2,
   "id": "e72ef28e-fbf7-475d-a156-5e0d6ab64329",
   "metadata": {},
   "outputs": [
    {
     "name": "stdout",
     "output_type": "stream",
     "text": [
      "Результат: {98, 35, 213, 54, 119, 15}\n"
     ]
    }
   ],
   "source": [
    "# Задание 1\n",
    "# Дана переменная, в которой хранится словарь, содержащий гео-метки для каждого пользователя.\n",
    "# Вам необходимо написать программу, которая выведет на экран множество уникальных гео-меток\n",
    "# всех пользователей.\n",
    "\n",
    "ids = {'user1': [213, 213, 213, 15, 213], \n",
    "       'user2': [54, 54, 119, 119, 119], \n",
    "       'user3': [213, 98, 98, 35]}\n",
    "\n",
    "unique_ids = set()\n",
    "for user in ids.values():\n",
    "    unique_ids |= set(user)\n",
    "\n",
    "print(\"Результат:\", unique_ids)\n"
   ]
  },
  {
   "cell_type": "code",
   "execution_count": 12,
   "id": "bc4a780a-9938-4ae4-8f74-23945c8ae600",
   "metadata": {},
   "outputs": [
    {
     "name": "stdout",
     "output_type": "stream",
     "text": [
      "Поисковых запросов, содержащих 3 слов(а): 50.00%\n",
      "Поисковых запросов, содержащих 2 слов(а): 37.50%\n",
      "Поисковых запросов, содержащих 4 слов(а): 12.50%\n"
     ]
    }
   ],
   "source": [
    "# Задание 2\n",
    "# Дана переменная, в которой хранится список поисковых запросов пользователя, но запросы,\n",
    "# потенциально, могут быть любые. Вам необходимо написать программу, которая выведет на экран\n",
    "# распределение количества слов в запросах в требуемом виде.\n",
    "\n",
    "import re\n",
    "\n",
    "queries = [\n",
    "    'смотреть сериалы онлайн',\n",
    "    'новости спорта',\n",
    "    'афиша кино',\n",
    "    'курс доллара',\n",
    "    'сериалы этим летом',\n",
    "    'курс по питону',\n",
    "    'сериалы про спорт',\n",
    "    'сериалы про спорт .2019',\n",
    "]\n",
    "\n",
    "word_count = {}  # Создаем словарь для подсчета количества слов в запросах\n",
    "\n",
    "for query in queries:\n",
    "    # Используем регулярное выражение для разделения строки на слова\n",
    "    words = re.findall(r'\\b\\w+\\b', query)\n",
    "    \n",
    "    # Считаем количество слов в текущем запросе\n",
    "    num_words = len(words)\n",
    "    \n",
    "    # Используем setdefault() для инициализации счетчика для текущего количества слов\n",
    "    word_count.setdefault(num_words, 0)\n",
    "    word_count[num_words] += 1\n",
    "\n",
    "# Считаем общее количество запросов\n",
    "total_queries = len(queries)\n",
    "\n",
    "for num_words, count in word_count.items():\n",
    "    percentage = (count / total_queries) * 100\n",
    "    print(f\"Поисковых запросов, содержащих {num_words} слов(а): {percentage:.2f}%\")"
   ]
  },
  {
   "cell_type": "code",
   "execution_count": 15,
   "id": "52705464-8411-4198-8df9-929f7ec6b374",
   "metadata": {},
   "outputs": [
    {
     "name": "stdout",
     "output_type": "stream",
     "text": [
      "{'vk': {'revenue': 103, 'cost': 98, 'ROI': 5.1}, 'yandex': {'revenue': 179, 'cost': 153, 'ROI': 16.99}, 'facebook': {'revenue': 103, 'cost': 110, 'ROI': -6.36}, 'adwords': {'revenue': 35, 'cost': 34, 'ROI': 2.94}, 'twitter': {'revenue': 11, 'cost': 24, 'ROI': -54.17}}\n"
     ]
    }
   ],
   "source": [
    "# Задание 3\n",
    "# Дана переменная, в которой хранится информация о затратах и доходе рекламных кампаний по различным источникам.\n",
    "# Необходимо дополнить исходную структуру показателем ROI, который рассчитаем по формуле:\n",
    "# ((revenue / cost) - 1) * 100\n",
    "\n",
    "results = {\n",
    "    'vk': {'revenue': 103, 'cost': 98},\n",
    "    'yandex': {'revenue': 179, 'cost': 153},\n",
    "    'facebook': {'revenue': 103, 'cost': 110},\n",
    "    'adwords': {'revenue': 35, 'cost': 34},\n",
    "    'twitter': {'revenue': 11, 'cost': 24},\n",
    "}\n",
    "\n",
    "for source, data in results.items():\n",
    "    roi = ((data['revenue'] / data['cost']) - 1) * 100\n",
    "    data['ROI'] = round(roi, 2)\n",
    "\n",
    "print(results)"
   ]
  },
  {
   "cell_type": "code",
   "execution_count": 16,
   "id": "9c1c8546-efd2-41b9-826a-cbfd63e9f3ad",
   "metadata": {},
   "outputs": [
    {
     "name": "stdout",
     "output_type": "stream",
     "text": [
      "Максимальный объем продаж на рекламном канале: vk\n"
     ]
    }
   ],
   "source": [
    "# Задание 4\n",
    "# Дана переменная, в которой хранится статистика рекламных каналов по объемам продаж. Напишите программу,\n",
    "# которая возвращает название канала с максимальным объемом продаж.\n",
    "\n",
    "stats = {'facebook': 55, 'yandex': 115, 'vk': 120, 'google': 99, 'email': 42, 'ok': 98}\n",
    "\n",
    "max_channel = max(stats, key=stats.get)\n",
    "\n",
    "print(f\"Максимальный объем продаж на рекламном канале: {max_channel}\")"
   ]
  }
 ],
 "metadata": {
  "kernelspec": {
   "display_name": "Python 3 (ipykernel)",
   "language": "python",
   "name": "python3"
  },
  "language_info": {
   "codemirror_mode": {
    "name": "ipython",
    "version": 3
   },
   "file_extension": ".py",
   "mimetype": "text/x-python",
   "name": "python",
   "nbconvert_exporter": "python",
   "pygments_lexer": "ipython3",
   "version": "3.11.7"
  }
 },
 "nbformat": 4,
 "nbformat_minor": 5
}
