{
 "cells": [
  {
   "cell_type": "code",
   "execution_count": 58,
   "id": "49d3fb48-97a0-480f-907b-8dd52afb9eb9",
   "metadata": {
    "tags": []
   },
   "outputs": [
    {
     "name": "stdout",
     "output_type": "stream",
     "text": [
      "Фильм 'Shawshank Redemption, The (1994)' имеет наибольшее количество оценок 5.0: 153\n"
     ]
    }
   ],
   "source": [
    "# Задание 1\n",
    "# Определите, какому фильму было выставлено больше всего оценок 5.0.\n",
    "\n",
    "import pandas as pd\n",
    "\n",
    "movies_df = pd.read_csv(r'C:\\Users\\AAA\\Downloads\\10._Основы_pandas\\Файлы к заданию №1\\movies.csv')\n",
    "ratings_df = pd.read_csv(r'C:\\Users\\AAA\\Downloads\\10._Основы_pandas\\Файлы к заданию №1\\ratings.csv')\n",
    "\n",
    "# Фильтрация\n",
    "ratings_df_filtered = ratings_df.query('rating == 5.0')\n",
    "\n",
    "# Объединение и подсчет\n",
    "merged_df = pd.merge(movies_df, ratings_df_filtered, on='movieId', how='inner')\n",
    "ratings_count = merged_df.groupby('movieId').size().reset_index(name='count_of_ratings')\n",
    "\n",
    "most_rated_movie_id = ratings_count.nlargest(1, 'count_of_ratings')['movieId'].iloc[0]\n",
    "count_of_ratings = ratings_count['count_of_ratings'].max()\n",
    "\n",
    "most_rated_movie_title = movies_df.loc[movies_df['movieId'] == most_rated_movie_id, 'title'].values[0]\n",
    "\n",
    "print(f\"Фильм '{most_rated_movie_title}' имеет наибольшее количество оценок 5.0: {count_of_ratings}\")"
   ]
  },
  {
   "cell_type": "code",
   "execution_count": 11,
   "id": "dd637f31-516a-4161-873d-d92d22601578",
   "metadata": {
    "tags": []
   },
   "outputs": [
    {
     "name": "stdout",
     "output_type": "stream",
     "text": [
      "Суммарное потребление стран Прибалтики категорий 4, 12 и 21 за период с 2005 по 2010 год: 240580.0\n"
     ]
    }
   ],
   "source": [
    "# Задание 2\n",
    "# По данным файла power.csv посчитайте суммарное потребление стран Прибалтики (Латвия, Литва и Эстония) категорий 4, 12 и 21 за период\n",
    "# с 2005 по 2010 год. Не учитывайте в расчётах отрицательные значения quantity.\n",
    "\n",
    "\n",
    "import pandas as pd\n",
    "power_df = pd.read_csv(r'C:\\Users\\AAA\\Downloads\\10._Основы_pandas\\Файлы к заданию №2\\power.csv')\n",
    "\n",
    "# Фильтрация данных по странам Прибалтики, категориям и периоду\n",
    "baltic_countries = ['Latvia', 'Lithuania', 'Estonia']\n",
    "categories = [4, 12, 21]\n",
    "filtered_data = power_df[(power_df['country'].isin(baltic_countries)) &\n",
    "                         (power_df['category'].isin(categories)) &\n",
    "                         (power_df['year'].between(2005, 2010)) &\n",
    "                         (power_df['quantity'] >= 0)]\n",
    "\n",
    "# Суммирование потребления\n",
    "total_consumption = filtered_data['quantity'].sum()\n",
    "\n",
    "print(f\"Суммарное потребление стран Прибалтики категорий 4, 12 и 21 за период с 2005 по 2010 год: {total_consumption}\")"
   ]
  },
  {
   "cell_type": "code",
   "execution_count": 1,
   "id": "caa9e284-2ce6-427b-8a84-134cdbe1c154",
   "metadata": {
    "collapsed": true,
    "jupyter": {
     "outputs_hidden": true
    },
    "tags": []
   },
   "outputs": [
    {
     "name": "stdout",
     "output_type": "stream",
     "text": [
      "                                    Функция или метод  \\\n",
      "0   S = 'str'; S = \"str\"; S = '''str'''; S = \"\"\"st...   \n",
      "1                                  S = \"s\\np\\ta\\nbbb\"   \n",
      "2                                  S = r\"C:\\temp\\new\"   \n",
      "3                                         S = b\"byte\"   \n",
      "4                                             S1 + S2   \n",
      "5                                              S1 * 3   \n",
      "6                                                S[i]   \n",
      "7                                         S[i:j:step]   \n",
      "8                                              len(S)   \n",
      "9                          S.find(str, [start],[end])   \n",
      "10                        S.rfind(str, [start],[end])   \n",
      "11                        S.index(str, [start],[end])   \n",
      "12                       S.rindex(str, [start],[end])   \n",
      "13              S.replace(шаблон, замена[, maxcount])   \n",
      "14                                    S.split(символ)   \n",
      "15                                        S.isdigit()   \n",
      "16                                        S.isalpha()   \n",
      "17                                        S.isalnum()   \n",
      "18                                        S.islower()   \n",
      "19                                        S.isupper()   \n",
      "20                                        S.isspace()   \n",
      "21                                        S.istitle()   \n",
      "22                                          S.upper()   \n",
      "23                                          S.lower()   \n",
      "24                                  S.startswith(str)   \n",
      "25                                    S.endswith(str)   \n",
      "26                                     S.join(список)   \n",
      "27                                        ord(символ)   \n",
      "28                                         chr(число)   \n",
      "29                                     S.capitalize()   \n",
      "30                            S.center(width, [fill])   \n",
      "31                        S.count(str, [start],[end])   \n",
      "32                            S.expandtabs([tabsize])   \n",
      "33                                  S.lstrip([chars])   \n",
      "34                                  S.rstrip([chars])   \n",
      "35                                   S.strip([chars])   \n",
      "36                                S.partition(шаблон)   \n",
      "37                                  S.rpartition(sep)   \n",
      "38                                       S.swapcase()   \n",
      "39                                          S.title()   \n",
      "40                                     S.zfill(width)   \n",
      "41                       S.ljust(width, fillchar=\" \")   \n",
      "42                       S.rjust(width, fillchar=\" \")   \n",
      "43                          S.format(*args, **kwargs)   \n",
      "\n",
      "                                           Назначение  \n",
      "0                                      Литералы строк  \n",
      "1                   Экранированные последовательности  \n",
      "2   Неформатированные строки (подавляют экранирова...  \n",
      "3                                       Строка байтов  \n",
      "4                       Конкатенация (сложение строк)  \n",
      "5                                   Повторение строки  \n",
      "6                                Обращение по индексу  \n",
      "7                                    Извлечение среза  \n",
      "8                                        Длина строки  \n",
      "9   Поиск подстроки в строке. Возвращает номер пер...  \n",
      "10  Поиск подстроки в строке. Возвращает номер пос...  \n",
      "11  Поиск подстроки в строке. Возвращает номер пер...  \n",
      "12  Поиск подстроки в строке. Возвращает номер пос...  \n",
      "13  Замена шаблона на замену. maxcount ограничивае...  \n",
      "14                    Разбиение строки по разделителю  \n",
      "15                          Состоит ли строка из цифр  \n",
      "16                          Состоит ли строка из букв  \n",
      "17                 Состоит ли строка из цифр или букв  \n",
      "18    Состоит ли строка из символов в нижнем регистре  \n",
      "19   Состоит ли строка из символов в верхнем регистре  \n",
      "20  Состоит ли строка из неотображаемых символов (...  \n",
      "21     Начинаются ли слова в строке с заглавной буквы  \n",
      "22          Преобразование строки к верхнему регистру  \n",
      "23           Преобразование строки к нижнему регистру  \n",
      "24               Начинается ли строка S с шаблона str  \n",
      "25             Заканчивается ли строка S шаблоном str  \n",
      "26           Сборка строки из списка с разделителем S  \n",
      "27                             Символ в его код ASCII  \n",
      "28                                 Код ASCII в символ  \n",
      "29  Переводит первый символ строки в верхний регис...  \n",
      "30  Возвращает отцентрованную строку, по краям кот...  \n",
      "31  Возвращает количество непересекающихся вхожден...  \n",
      "32  Возвращает копию строки, в которой все символы...  \n",
      "33       Удаление пробельных символов в начале строки  \n",
      "34        Удаление пробельных символов в конце строки  \n",
      "35  Удаление пробельных символов в начале и в конц...  \n",
      "36  Возвращает кортеж, содержащий часть перед перв...  \n",
      "37  Возвращает кортеж, содержащий часть перед посл...  \n",
      "38  Переводит символы нижнего регистра в верхний, ...  \n",
      "39  Первую букву каждого слова переводит в верхний...  \n",
      "40  Делает длину строки не меньшей width, по необх...  \n",
      "41  Делает длину строки не меньшей width, по необх...  \n",
      "42  Делает длину строки не меньшей width, по необх...  \n",
      "43                              Форматирование строки  \n"
     ]
    }
   ],
   "source": [
    "# Задание 3\n",
    "# Выберите страницу сайта с табличными данными. Импортируйте таблицы в pandas DataFrame\n",
    "# Примеры страниц: https://pythonworld.ru/tipy-dannyx-v-python/stroki-funkcii-i-metody-strok.html\n",
    "\n",
    "import pandas as pd\n",
    "\n",
    "url = 'https://pythonworld.ru/tipy-dannyx-v-python/stroki-funkcii-i-metody-strok.html'\n",
    "tables = pd.read_html(url)\n",
    "df = tables[0]\n",
    "\n",
    "print(df)"
   ]
  }
 ],
 "metadata": {
  "kernelspec": {
   "display_name": "Python 3 (ipykernel)",
   "language": "python",
   "name": "python3"
  },
  "language_info": {
   "codemirror_mode": {
    "name": "ipython",
    "version": 3
   },
   "file_extension": ".py",
   "mimetype": "text/x-python",
   "name": "python",
   "nbconvert_exporter": "python",
   "pygments_lexer": "ipython3",
   "version": "3.11.7"
  }
 },
 "nbformat": 4,
 "nbformat_minor": 5
}
