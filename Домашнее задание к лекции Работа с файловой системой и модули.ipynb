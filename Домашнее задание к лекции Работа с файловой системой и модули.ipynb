{
 "cells": [
  {
   "cell_type": "code",
   "execution_count": null,
   "id": "d76be027-22fa-4519-a0bd-06f80099c355",
   "metadata": {},
   "outputs": [],
   "source": [
    "# Задание 1."
   ]
  },
  {
   "cell_type": "code",
   "execution_count": 1,
   "id": "4c9eb7b4-3fa5-4926-9841-91c113182c5d",
   "metadata": {
    "tags": []
   },
   "outputs": [
    {
     "name": "stdout",
     "output_type": "stream",
     "text": [
      "{\"user_id\": \"user_id\", \"category\": \"category\"}\n",
      "\n",
      "{\"user_id\": \"1840e0b9d4\", \"category\": \"Продукты\"}\n",
      "\n",
      "{\"user_id\": \"4e4f90fcfb\", \"category\": \"Электроника\"}\n",
      "\n",
      "{\"user_id\": \"afea8d72fc\", \"category\": \"Электроника\"}\n",
      "\n",
      "{\"user_id\": \"373a6055fe\", \"category\": \"Бытовая техника\"}\n",
      "\n",
      "{\"user_id\": \"9b2ab046f3\", \"category\": \"Электроника\"}\n",
      "\n",
      "{\"user_id\": \"9f39d307c3\", \"category\": \"Электроника\"}\n",
      "\n",
      "{\"user_id\": \"44edeffc91\", \"category\": \"Продукты\"}\n",
      "\n",
      "{\"user_id\": \"704474fa2d\", \"category\": \"Продукты\"}\n",
      "\n",
      "{\"user_id\": \"1de31be403\", \"category\": \"Бытовая техника\"}\n",
      "\n"
     ]
    }
   ],
   "source": [
    "# просмотр файла\n",
    "file = open('C:/Users/AAA/Downloads/Новая папка/purchase_log.txt', 'r', encoding='utf-8')\n",
    "for _ in range(10):\n",
    "    line = file.readline()\n",
    "    print(line)\n",
    "file.close()"
   ]
  },
  {
   "cell_type": "code",
   "execution_count": 47,
   "id": "0323404c-239d-4a95-9e60-d24934125642",
   "metadata": {
    "tags": []
   },
   "outputs": [
    {
     "name": "stdout",
     "output_type": "stream",
     "text": [
      "{'1840e0b9d4': 'Продукты', '4e4f90fcfb': 'Электроника', 'afea8d72fc': 'Электроника', '373a6055fe': 'Бытовая техника', '9b2ab046f3': 'Электроника', '9f39d307c3': 'Электроника', '44edeffc91': 'Продукты', '704474fa2d': 'Продукты', '1de31be403': 'Бытовая техника', 'b71f36a5e4': 'Продукты'}\n"
     ]
    }
   ],
   "source": [
    "# Перевод содержимого файла в словарь.\n",
    "\n",
    "import json\n",
    "\n",
    "purchases = {}\n",
    "\n",
    "# Открываем файл для чтения\n",
    "with open('C:/Users/AAA/Downloads/Новая папка/purchase_log.txt', 'r', encoding = 'utf-8') as file:\n",
    "    # Пропускаем первую строку\n",
    "    file.readline()\n",
    "    for line in file:\n",
    "        # Преобразуем строку JSON в словарь\n",
    "        data = json.loads(line)\n",
    "        # Добавляем данные в словарь purchases\n",
    "        user_id = data['user_id']\n",
    "        category = data['category']\n",
    "        purchases[user_id] = category\n",
    "\n",
    "print(dict(list(purchases.items())[:10]))"
   ]
  },
  {
   "cell_type": "code",
   "execution_count": null,
   "id": "8cc0e04a-f2c4-4e1d-9184-f6e362dceed8",
   "metadata": {},
   "outputs": [],
   "source": [
    "# Задание 2."
   ]
  },
  {
   "cell_type": "code",
   "execution_count": 11,
   "id": "a3f72808-e532-4dab-8851-6135456d9d0e",
   "metadata": {
    "tags": []
   },
   "outputs": [
    {
     "name": "stdout",
     "output_type": "stream",
     "text": [
      "['user_id', 'source']\n",
      "['6450655ae8', 'other']\n",
      "['b4ea53e670', 'other']\n",
      "['0e37347152', 'other']\n",
      "['96064ae9e0', 'other']\n",
      "['e1bd168161', 'context']\n",
      "['71bcf169b4', 'other']\n",
      "['e0aee73c5d', 'other']\n",
      "['1f8845e157', 'context']\n",
      "['78d22c5c78', 'other']\n"
     ]
    }
   ],
   "source": [
    "# просмотр файла\n",
    "import csv\n",
    "\n",
    "with open('C:/Users/AAA/Downloads/Новая папка/visit_log.csv', 'r', encoding = 'utf-8') as file:\n",
    "    # Создаем объект csv.reader для чтения файла\n",
    "    reader = csv.reader(file)\n",
    "    \n",
    "    for i, row in enumerate(reader):\n",
    "        if i < 10:\n",
    "            print(row)   "
   ]
  },
  {
   "cell_type": "code",
   "execution_count": 7,
   "id": "f9ddbd1d-38a2-4231-bc5b-c8dfbcfa5cc9",
   "metadata": {
    "tags": []
   },
   "outputs": [],
   "source": [
    "import json\n",
    "import csv\n",
    "\n",
    "# Создаем словарь для хранения категорий покупок\n",
    "purchases = {}\n",
    "\n",
    "# записываем их в словарь\n",
    "with open('C:/Users/AAA/Downloads/Новая папка/purchase_log.txt', 'r', encoding = 'utf-8') as f:\n",
    "    for line in f:\n",
    "        data = json.loads(line)\n",
    "        purchases[data['user_id']] = data['category']\n",
    "\n",
    "# Открываем файл для записи результатов\n",
    "with open('C:/Users/AAA/Downloads/Новая папка/funnel.csv', 'w', encoding = 'utf-8', newline='') as f_out:\n",
    "    writer = csv.writer(f_out)\n",
    "\n",
    "    # Читаем файл с визитами и проверяем наличие покупок\n",
    "    with open('C:/Users/AAA/Downloads/Новая папка/visit_log.csv', 'r', encoding = 'utf-8') as f_in:\n",
    "        reader = csv.reader(f_in)\n",
    "        for row in reader:\n",
    "            user_id = row[0]\n",
    "            \n",
    "            if user_id in purchases:\n",
    "                row.append(purchases[user_id])\n",
    "                writer.writerow(row)"
   ]
  },
  {
   "cell_type": "code",
   "execution_count": 13,
   "id": "74500eaf-ff63-471c-abc6-db54aa8de06a",
   "metadata": {
    "tags": []
   },
   "outputs": [
    {
     "name": "stdout",
     "output_type": "stream",
     "text": [
      "['user_id', 'source', 'category']\n",
      "['1840e0b9d4', 'other', 'Продукты']\n",
      "['4e4f90fcfb', 'context', 'Электроника']\n",
      "['afea8d72fc', 'other', 'Электроника']\n",
      "['2824221f38', 'email', 'Продукты']\n",
      "['373a6055fe', 'other', 'Бытовая техника']\n",
      "['9b2ab046f3', 'other', 'Электроника']\n",
      "['9f39d307c3', 'context', 'Электроника']\n",
      "['44edeffc91', 'context', 'Продукты']\n",
      "['704474fa2d', 'other', 'Продукты']\n"
     ]
    }
   ],
   "source": [
    "# просмотр файла\n",
    "import csv\n",
    "\n",
    "# Открываем файл funnel.csv для чтения\n",
    "with open('C:/Users/AAA/Downloads/Новая папка/funnel.csv', 'r', encoding = 'utf-8') as m:\n",
    "    reader = csv.reader(m)\n",
    "\n",
    "    # Читаем и выводим первые 10 строк\n",
    "    for n, row in enumerate(reader):\n",
    "        if n < 10:\n",
    "            print(row)"
   ]
  }
 ],
 "metadata": {
  "kernelspec": {
   "display_name": "Python 3 (ipykernel)",
   "language": "python",
   "name": "python3"
  },
  "language_info": {
   "codemirror_mode": {
    "name": "ipython",
    "version": 3
   },
   "file_extension": ".py",
   "mimetype": "text/x-python",
   "name": "python",
   "nbconvert_exporter": "python",
   "pygments_lexer": "ipython3",
   "version": "3.11.7"
  }
 },
 "nbformat": 4,
 "nbformat_minor": 5
}
