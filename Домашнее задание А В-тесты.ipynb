{
 "cells": [
  {
   "cell_type": "markdown",
   "metadata": {
    "id": "SOZozVNIGZwQ"
   },
   "source": [
    "## Домашнее задание к занятию \"A/B-тесты\""
   ]
  },
  {
   "cell_type": "markdown",
   "metadata": {
    "id": "N5Z4Rg7PGZwR"
   },
   "source": [
    "### Описание задачи\n",
    "\n",
    "![banner](https://storage.googleapis.com/kaggle-datasets-images/635/1204/126be74882028aac7241553cef0e27a7/dataset-original.jpg)\n",
    "\n",
    "Покемоны - это маленькие существа, которые сражаются друг с другом на соревнованиях. Все покемоны имеют разные характеристики (сила атаки, защиты и т. д.) И относятся к одному или двум так называемым классам (вода, огонь и т. д.).\n",
    "Профессор Оук является изобретателем Pokedex - портативного устройства, которое хранит информацию обо всех существующих покемонах. Как его ведущий специалист по данным, Вы только что получили от него запрос с просьбой осуществить аналитику данных на всех устройствах Pokedex.\n",
    "\n",
    "### Описание набора данных\n",
    "Профессор Оук скопировал все содержимое в память одного устройства Pokedex, в результате чего получился набор данных, с которым Вы будете работать в этой задаче. В этом файле каждая строка представляет характеристики одного покемона:\n",
    "\n",
    "* `pid`: Numeric - ID покемона\n",
    "* `HP`: Numeric - Очки здоровья\n",
    "* `Attack`: Numeric - Сила обычной атаки\n",
    "* `Defense`: Numeric - Сила обычной защиты\n",
    "* `Sp. Atk`: Numeric - Сила специальной атаки\n",
    "* `Sp. Def`: Numeric - Сила специальной защиты\n",
    "* `Speed`: Numeric - Скорость движений\n",
    "* `Legendary`: Boolean - «True», если покемон редкий\n",
    "* `Class 1`: Categorical - Класс покемона\n",
    "* `Class 2`: Categorical - Класс покемона"
   ]
  },
  {
   "cell_type": "code",
   "execution_count": 8,
   "metadata": {
    "colab": {
     "base_uri": "https://localhost:8080/",
     "height": 172
    },
    "id": "op1t0-0QGZwS",
    "outputId": "be3029cf-0c41-4bea-815f-ef74130e754a",
    "tags": []
   },
   "outputs": [
    {
     "data": {
      "text/html": [
       "<div>\n",
       "<style scoped>\n",
       "    .dataframe tbody tr th:only-of-type {\n",
       "        vertical-align: middle;\n",
       "    }\n",
       "\n",
       "    .dataframe tbody tr th {\n",
       "        vertical-align: top;\n",
       "    }\n",
       "\n",
       "    .dataframe thead th {\n",
       "        text-align: right;\n",
       "    }\n",
       "</style>\n",
       "<table border=\"1\" class=\"dataframe\">\n",
       "  <thead>\n",
       "    <tr style=\"text-align: right;\">\n",
       "      <th></th>\n",
       "      <th>pid</th>\n",
       "      <th>Name</th>\n",
       "      <th>Class 1</th>\n",
       "      <th>Class 2</th>\n",
       "      <th>HP</th>\n",
       "      <th>Attack</th>\n",
       "      <th>Defense</th>\n",
       "      <th>Sp. Atk</th>\n",
       "      <th>Sp. Def</th>\n",
       "      <th>Speed</th>\n",
       "      <th>Legendary</th>\n",
       "    </tr>\n",
       "  </thead>\n",
       "  <tbody>\n",
       "    <tr>\n",
       "      <th>0</th>\n",
       "      <td>1</td>\n",
       "      <td>Bulbasaur</td>\n",
       "      <td>Grass</td>\n",
       "      <td>Poison</td>\n",
       "      <td>45</td>\n",
       "      <td>49</td>\n",
       "      <td>49</td>\n",
       "      <td>65</td>\n",
       "      <td>65</td>\n",
       "      <td>45</td>\n",
       "      <td>False</td>\n",
       "    </tr>\n",
       "    <tr>\n",
       "      <th>1</th>\n",
       "      <td>2</td>\n",
       "      <td>Ivysaur</td>\n",
       "      <td>Grass</td>\n",
       "      <td>Poison</td>\n",
       "      <td>60</td>\n",
       "      <td>62</td>\n",
       "      <td>63</td>\n",
       "      <td>80</td>\n",
       "      <td>80</td>\n",
       "      <td>60</td>\n",
       "      <td>False</td>\n",
       "    </tr>\n",
       "    <tr>\n",
       "      <th>2</th>\n",
       "      <td>3</td>\n",
       "      <td>Venusaur</td>\n",
       "      <td>Grass</td>\n",
       "      <td>Poison</td>\n",
       "      <td>80</td>\n",
       "      <td>82</td>\n",
       "      <td>83</td>\n",
       "      <td>100</td>\n",
       "      <td>100</td>\n",
       "      <td>80</td>\n",
       "      <td>False</td>\n",
       "    </tr>\n",
       "    <tr>\n",
       "      <th>3</th>\n",
       "      <td>4</td>\n",
       "      <td>Mega Venusaur</td>\n",
       "      <td>Grass</td>\n",
       "      <td>Poison</td>\n",
       "      <td>80</td>\n",
       "      <td>100</td>\n",
       "      <td>123</td>\n",
       "      <td>122</td>\n",
       "      <td>120</td>\n",
       "      <td>80</td>\n",
       "      <td>False</td>\n",
       "    </tr>\n",
       "    <tr>\n",
       "      <th>4</th>\n",
       "      <td>5</td>\n",
       "      <td>Charmander</td>\n",
       "      <td>Fire</td>\n",
       "      <td>NaN</td>\n",
       "      <td>39</td>\n",
       "      <td>52</td>\n",
       "      <td>43</td>\n",
       "      <td>60</td>\n",
       "      <td>50</td>\n",
       "      <td>65</td>\n",
       "      <td>False</td>\n",
       "    </tr>\n",
       "  </tbody>\n",
       "</table>\n",
       "</div>"
      ],
      "text/plain": [
       "   pid           Name Class 1 Class 2  HP  Attack  Defense  Sp. Atk  Sp. Def  \\\n",
       "0    1      Bulbasaur   Grass  Poison  45      49       49       65       65   \n",
       "1    2        Ivysaur   Grass  Poison  60      62       63       80       80   \n",
       "2    3       Venusaur   Grass  Poison  80      82       83      100      100   \n",
       "3    4  Mega Venusaur   Grass  Poison  80     100      123      122      120   \n",
       "4    5     Charmander    Fire     NaN  39      52       43       60       50   \n",
       "\n",
       "   Speed  Legendary  \n",
       "0     45      False  \n",
       "1     60      False  \n",
       "2     80      False  \n",
       "3     80      False  \n",
       "4     65      False  "
      ]
     },
     "execution_count": 8,
     "metadata": {},
     "output_type": "execute_result"
    }
   ],
   "source": [
    "import warnings\n",
    "# Отключение предупреждений (warnings)\n",
    "warnings.filterwarnings(\"ignore\")\n",
    "\n",
    "import pandas as pd\n",
    "\n",
    "from scipy.stats import ttest_ind\n",
    "from scipy.stats import f_oneway, shapiro\n",
    "\n",
    "pokemon = pd.read_csv('https://raw.githubusercontent.com/a-milenkin/datasets_for_t-tests/main/pokemon.csv', on_bad_lines='skip')  # Откроем датасет\n",
    "pokemon.head()\n",
    "\n",
    "# Обратите внимание, что у покемона может быть один или два класса.\n",
    "# Если у покемона два класса, считается, что они имеют одинаковую значимость."
   ]
  },
  {
   "cell_type": "code",
   "execution_count": 82,
   "metadata": {
    "tags": []
   },
   "outputs": [],
   "source": [
    "# Переименуем столбцы для удобства\n",
    "pokemon.columns = pokemon.columns.str.lower().str.replace(' ', '_')"
   ]
  },
  {
   "cell_type": "code",
   "execution_count": 84,
   "metadata": {
    "tags": []
   },
   "outputs": [
    {
     "name": "stdout",
     "output_type": "stream",
     "text": [
      "Количество пропущенных значений в каждом столбце:\n",
      "pid            0\n",
      "name           1\n",
      "class_1        0\n",
      "class_2      386\n",
      "hp             0\n",
      "attack         0\n",
      "defense        0\n",
      "sp._atk        0\n",
      "sp._def        0\n",
      "speed          0\n",
      "legendary      0\n",
      "dtype: int64\n"
     ]
    }
   ],
   "source": [
    "# Проверка наличия пропусков в каждом столбце\n",
    "missing_data = pokemon.isnull().sum()\n",
    "\n",
    "# Вывод результатов\n",
    "print(\"Количество пропущенных значений в каждом столбце:\")\n",
    "print(missing_data)"
   ]
  },
  {
   "cell_type": "code",
   "execution_count": 86,
   "metadata": {
    "tags": []
   },
   "outputs": [],
   "source": [
    "# Удаляем пусую строку в Name\n",
    "pokemon2 = pokemon.dropna(subset=['name'])"
   ]
  },
  {
   "cell_type": "code",
   "execution_count": 88,
   "metadata": {
    "tags": []
   },
   "outputs": [
    {
     "name": "stdout",
     "output_type": "stream",
     "text": [
      "<class 'pandas.core.frame.DataFrame'>\n",
      "Index: 799 entries, 0 to 799\n",
      "Data columns (total 11 columns):\n",
      " #   Column     Non-Null Count  Dtype \n",
      "---  ------     --------------  ----- \n",
      " 0   pid        799 non-null    int64 \n",
      " 1   name       799 non-null    object\n",
      " 2   class_1    799 non-null    object\n",
      " 3   class_2    414 non-null    object\n",
      " 4   hp         799 non-null    int64 \n",
      " 5   attack     799 non-null    int64 \n",
      " 6   defense    799 non-null    int64 \n",
      " 7   sp._atk    799 non-null    int64 \n",
      " 8   sp._def    799 non-null    int64 \n",
      " 9   speed      799 non-null    int64 \n",
      " 10  legendary  799 non-null    bool  \n",
      "dtypes: bool(1), int64(7), object(3)\n",
      "memory usage: 69.4+ KB\n"
     ]
    }
   ],
   "source": [
    "pokemon2.info()"
   ]
  },
  {
   "cell_type": "markdown",
   "metadata": {
    "id": "8KytW3mUGZwT"
   },
   "source": [
    "### Задачи"
   ]
  },
  {
   "cell_type": "markdown",
   "metadata": {
    "id": "i72--cvLGZwT"
   },
   "source": [
    "<div class=\"alert alert-info\">\n",
    "<b>Задание № 1:</b>\n",
    "    \n",
    "Профессор Оук подозревает, что покемоны в классе `Grass` имеют более сильную обычную атаку, чем покемоны в классе `Rock`. Проверьте, прав ли он, и убедите его в своём выводе статистически.\n",
    "    \n",
    "    \n",
    "Примечание: если есть покемоны, которые относятся к обоим классам, просто выбросьте их;\n",
    "    \n",
    "Вы можете предположить, что распределение обычных атак является нормальным для всех классов покемонов.\n",
    "\n",
    "</div>"
   ]
  },
  {
   "cell_type": "code",
   "execution_count": 15,
   "metadata": {
    "id": "h6s6LL6mt17A",
    "tags": []
   },
   "outputs": [
    {
     "name": "stdout",
     "output_type": "stream",
     "text": [
      "Статистика Левена: 1.4636003655193421\n",
      "P-значение: 0.23345957539915027\n",
      "Дисперсия скорости для Grass Pokemon: 497.403409090909\n",
      "Дисперсия скорости для Rock Pokemon: 1256.2499999999998\n",
      "Не отвергаем нулевую гипотезу: дисперсии равны\n"
     ]
    }
   ],
   "source": [
    "import numpy as np\n",
    "from scipy import stats\n",
    "from scipy.stats import shapiro\n",
    "\n",
    "# Сравним дисперсии\n",
    "\n",
    "grass_pokemon = pokemon2[(pokemon2['class_1'] == 'Grass') & (pokemon2['class_2'].isna())]\n",
    "rock_pokemon = pokemon2[(pokemon2['class_1'] == 'Rock') & (pokemon2['class_2'].isna())]\n",
    "\n",
    "# Проведение теста Левена\n",
    "stat, p_value = stats.levene(grass_pokemon['attack'], rock_pokemon['attack'])\n",
    "grass_var = np.var(grass_pokemon['attack'], ddof=1)\n",
    "rock_var = np.var(rock_pokemon['attack'], ddof=1)\n",
    "\n",
    "print(f\"Статистика Левена: {stat}\")\n",
    "print(f\"P-значение: {p_value}\")\n",
    "print(f\"Дисперсия скорости для Grass Pokemon: {grass_var}\")\n",
    "print(f\"Дисперсия скорости для Rock Pokemon: {rock_var}\")\n",
    "\n",
    "# Интерпретация результата\n",
    "alpha = 0.05\n",
    "if p_value < alpha:\n",
    "    print(\"Отвергаем нулевую гипотезу: дисперсии не равны\")\n",
    "else:\n",
    "    print(\"Не отвергаем нулевую гипотезу: дисперсии равны\")"
   ]
  },
  {
   "cell_type": "markdown",
   "metadata": {},
   "source": [
    "### Несмотря на то, что дисперсия скорости у покемонов класса Кock выше, чем у покемонов класса Grass, статистически значимых доказательств для утверждения, что эти дисперсии различны, нет. Таким образом, тест Левена указывает на то, что различия в дисперсиях могут быть объяснены случайностью, и нет достаточных оснований для утверждения, что дисперсии существенно различаются."
   ]
  },
  {
   "cell_type": "code",
   "execution_count": 17,
   "metadata": {
    "tags": []
   },
   "outputs": [
    {
     "name": "stdout",
     "output_type": "stream",
     "text": [
      "Не отклоняем нулевую гипотезу >> Данные распределены нормально\n",
      "Test statistic: 0.9623432755470276\n",
      "p-value: 0.30067211389541626\n",
      "Не отклоняем нулевую гипотезу >> Данные распределены нормально\n",
      "Test statistic: 0.984890878200531\n",
      "p-value: 0.9846584796905518\n"
     ]
    }
   ],
   "source": [
    "# Проверка на нормальность\n",
    "\n",
    "def check_normality(data):\n",
    "    \n",
    "    \"\"\"Условия применения теста Шапиро-Уилка:\n",
    "    • Размер выборки - тест лучше всего подходит для выборок размером до 2000 наблюдений. \n",
    "    • Тип данных - данные должны быть количественными и непрерывными.\n",
    "    • Независимость наблюдений - данные должны быть независимыми. Тест Шапиро-Уилка не подходит для зависимых данных или временных рядов.\"\"\"\n",
    "\n",
    "    stat, p_value = shapiro(data)\n",
    "    a = 0.05\n",
    "    \n",
    "    # Проверка результатов\n",
    "    if p_value < a:\n",
    "        print(\"Отклоняем нулевую гипотезу >> Данные распределены не нормально\")\n",
    "    else:\n",
    "        print(\"Не отклоняем нулевую гипотезу >> Данные распределены нормально\")\n",
    "        \n",
    "    print(f\"Test statistic: {stat}\")\n",
    "    print(f\"p-value: {p_value}\")\n",
    "    \n",
    "check_normality(grass_pokemon['attack'])\n",
    "check_normality(rock_pokemon['attack'])"
   ]
  },
  {
   "cell_type": "code",
   "execution_count": 18,
   "metadata": {
    "tags": []
   },
   "outputs": [
    {
     "data": {
      "image/png": "[encoded data removed]",
      "text/plain": [
       "<Figure size 1400x600 with 2 Axes>"
      ]
     },
     "metadata": {},
     "output_type": "display_data"
    },
    {
     "data": {
      "image/png": "[encoded data removed]",
      "text/plain": [
       "<Figure size 1000x600 with 1 Axes>"
      ]
     },
     "metadata": {},
     "output_type": "display_data"
    }
   ],
   "source": [
    "import matplotlib.pyplot as plt\n",
    "import seaborn as sns\n",
    "\n",
    "# Посмотрим на данные визуально\n",
    "\n",
    "# Создание гистограмм\n",
    "plt.figure(figsize=(14, 6))\n",
    "\n",
    "# Гистограмма для Grass\n",
    "plt.subplot(1, 2, 1)\n",
    "sns.histplot(grass_pokemon['attack'], bins=15, kde=True, color='green')\n",
    "plt.title('Гистограмма атаки для Grass Pokemon')\n",
    "plt.xlabel('Attack')\n",
    "plt.ylabel('Frequency')\n",
    "\n",
    "# Гистограмма для Rock\n",
    "plt.subplot(1, 2, 2)\n",
    "sns.histplot(rock_pokemon['attack'], bins=15, kde=True, color='brown')\n",
    "plt.title('Гистограмма атаки для Rock Pokemon')\n",
    "plt.xlabel('Attack')\n",
    "plt.ylabel('Frequency')\n",
    "\n",
    "plt.tight_layout()\n",
    "plt.show()\n",
    "\n",
    "# Создание ящиков с усами (box plots)\n",
    "plt.figure(figsize=(10, 6))\n",
    "sns.boxplot(data=[grass_pokemon['attack'], rock_pokemon['attack']], palette=['green', 'brown'])\n",
    "plt.xticks([0, 1], ['Grass', 'Rock'])\n",
    "plt.title('Ящики с усами атаки для Grass и Rock Pokemon')\n",
    "plt.xlabel('Class')\n",
    "plt.ylabel('Attack')\n",
    "\n",
    "plt.show()"
   ]
  },
  {
   "cell_type": "code",
   "execution_count": 19,
   "metadata": {
    "tags": []
   },
   "outputs": [
    {
     "name": "stdout",
     "output_type": "stream",
     "text": [
      "t-статистика: -2.7754037281165433\n",
      "P-значение: 0.019973063777980117\n",
      "Отвергаем нулевую гипотезу: средние значения атаки различаются\n",
      "Среднее значение атаки у покемонов класса rock стат.значимо выше, чем у покемонов класса grass\n",
      "Среднее значение атаки у покемонов класса grass: 68.81818181818181\n",
      "Среднее значение атаки у покемонов класса rock: 103.33333333333333\n"
     ]
    }
   ],
   "source": [
    "# Проведение t-теста для сравнения средних значений атаки\n",
    "\n",
    "t_stat, p_value = stats.ttest_ind(grass_pokemon['attack'], rock_pokemon['attack'], equal_var=False) # параметр указывает на неравные дисперсий.\n",
    "\n",
    "print(f\"t-статистика: {t_stat}\")\n",
    "print(f\"P-значение: {p_value}\")\n",
    "\n",
    "# Интерпретация результата\n",
    "alpha = 0.05\n",
    "if p_value < alpha:\n",
    "    print(\"Отвергаем нулевую гипотезу: средние значения атаки различаются\")\n",
    "    if grass_pokemon['attack'].mean() > rock_pokemon['attack'].mean():\n",
    "        print(\"Среднее значение атаки у покемонов класса grass стат.значимо выше, чем у покемонов класса rock\")\n",
    "    else:\n",
    "        print(\"Среднее значение атаки у покемонов класса rock стат.значимо выше, чем у покемонов класса grass\")\n",
    "else:\n",
    "    print(\"Не отвергаем нулевую гипотезу: средние значения атаки не различаются\")\n",
    "    \n",
    "print(\"Среднее значение атаки у покемонов класса grass:\", grass_pokemon['attack'].mean())\n",
    "print(\"Среднее значение атаки у покемонов класса rock:\", rock_pokemon['attack'].mean())\n",
    "      "
   ]
  },
  {
   "cell_type": "markdown",
   "metadata": {},
   "source": [
    "### Вывод: опасения профессора Оука не оправданы. Покемоны в классе `Rock` имеют более сильную обычную атаку, чем покемоны в классе `Grass`, а не наоборот."
   ]
  },
  {
   "cell_type": "markdown",
   "metadata": {
    "id": "KS2OVjmFGZwV"
   },
   "source": [
    "<div class=\"alert alert-info\">\n",
    "<b>Задание № 2:</b>\n",
    "    \n",
    "Профессор Оук уже долго не может спать по ночам, ведь его волнует вопрос, а правда ли, что покемоны в классе `Water` в среднем быстрее, чем покемоны в классе `Normal`.\n",
    "    \n",
    "    \n",
    "Проверьте, прав ли он, и убедите его в своём выводе статистически.\n",
    "    \n",
    "Примечание: если есть покемоны, которые относятся к обоим классам, выбросьте их;\n",
    "    \n",
    "Вы можете предположить, что распределение скорости движения является нормальным для всех классов покемонов.\n",
    "</div>"
   ]
  },
  {
   "cell_type": "code",
   "execution_count": 22,
   "metadata": {
    "id": "h_p9DQRzt3o_",
    "tags": []
   },
   "outputs": [
    {
     "name": "stdout",
     "output_type": "stream",
     "text": [
      "Статистика Левена: 10.428200659342261\n",
      "P-значение: 0.0016076900681672747\n",
      "Дисперсия скорости для water Pokemon: 397.2443015780246\n",
      "Дисперсия скорости для normal Pokemon: 794.7857923497268\n",
      "Отвергаем нулевую гипотезу: дисперсии не равны\n"
     ]
    }
   ],
   "source": [
    "# Сравним дисперсии\n",
    "\n",
    "water_pokemon = pokemon2[(pokemon2['class_1'] == 'Water') & (pokemon2['class_2'].isna())]\n",
    "normal_pokemon = pokemon2[(pokemon2['class_1'] == 'Normal') & (pokemon2['class_2'].isna())]\n",
    "\n",
    "# Проведение теста Левена\n",
    "stat, p_value = stats.levene(water_pokemon['speed'], normal_pokemon['speed'])\n",
    "water_var = np.var(water_pokemon['speed'], ddof=1)\n",
    "normal_var = np.var(normal_pokemon['speed'], ddof=1)\n",
    "\n",
    "print(f\"Статистика Левена: {stat}\")\n",
    "print(f\"P-значение: {p_value}\")\n",
    "print(f\"Дисперсия скорости для water Pokemon: {water_var}\")\n",
    "print(f\"Дисперсия скорости для normal Pokemon: {normal_var}\")\n",
    "\n",
    "# Интерпретация результата\n",
    "alpha = 0.05\n",
    "if p_value < alpha:\n",
    "    print(\"Отвергаем нулевую гипотезу: дисперсии не равны\")\n",
    "else:\n",
    "    print(\"Не отвергаем нулевую гипотезу: дисперсии равны\")"
   ]
  },
  {
   "cell_type": "code",
   "execution_count": 23,
   "metadata": {
    "tags": []
   },
   "outputs": [
    {
     "name": "stdout",
     "output_type": "stream",
     "text": [
      "Не отклоняем нулевую гипотезу >> Данные распределены нормально\n",
      "Test statistic: 0.9750770926475525\n",
      "p-value: 0.2660429775714874\n",
      "Не отклоняем нулевую гипотезу >> Данные распределены нормально\n",
      "Test statistic: 0.9685876965522766\n",
      "p-value: 0.1184217780828476\n"
     ]
    }
   ],
   "source": [
    "# Проверка на нормальность\n",
    "    \n",
    "check_normality(water_pokemon['speed'])\n",
    "check_normality(normal_pokemon['speed'])"
   ]
  },
  {
   "cell_type": "code",
   "execution_count": 24,
   "metadata": {
    "tags": []
   },
   "outputs": [
    {
     "data": {
      "image/png": "[encoded data removed]",
      "text/plain": [
       "<Figure size 1400x600 with 2 Axes>"
      ]
     },
     "metadata": {},
     "output_type": "display_data"
    },
    {
     "data": {
      "text/plain": [
       "Text(0, 0.5, 'speed')"
      ]
     },
     "execution_count": 24,
     "metadata": {},
     "output_type": "execute_result"
    },
    {
     "data": {
      "image/png": "[encoded data removed]",
      "text/plain": [
       "<Figure size 1000x600 with 1 Axes>"
      ]
     },
     "metadata": {},
     "output_type": "display_data"
    }
   ],
   "source": [
    "# Посмотрим на данные визуально\n",
    "\n",
    "# Создание гистограмм\n",
    "plt.figure(figsize=(14, 6))\n",
    "\n",
    "# Гистограмма для water\n",
    "plt.subplot(1, 2, 1)\n",
    "sns.histplot(water_pokemon['speed'], bins=15, kde=True, color='blue')\n",
    "plt.title('Гистограмма скорости для water Pokemon')\n",
    "plt.xlabel('speed')\n",
    "plt.ylabel('Frequency')\n",
    "\n",
    "# Гистограмма для normal\n",
    "plt.subplot(1, 2, 2)\n",
    "sns.histplot(normal_pokemon['speed'], bins=15, kde=True, color='purple')\n",
    "plt.title('Гистограмма скорости для normal Pokemon')\n",
    "plt.xlabel('speed')\n",
    "plt.ylabel('Frequency')\n",
    "\n",
    "plt.tight_layout()\n",
    "plt.show()\n",
    "\n",
    "# Создание ящиков с усами (box plots)\n",
    "plt.figure(figsize=(10, 6))\n",
    "sns.boxplot(data=[water_pokemon['speed'], normal_pokemon['speed']], palette=['blue', 'purple'])\n",
    "plt.xticks([0, 1], ['water', 'normal'])\n",
    "plt.title('Ящики с усами скорости для water и normal Pokemon')\n",
    "plt.xlabel('Class')\n",
    "plt.ylabel('speed')"
   ]
  },
  {
   "cell_type": "code",
   "execution_count": 25,
   "metadata": {
    "tags": []
   },
   "outputs": [
    {
     "name": "stdout",
     "output_type": "stream",
     "text": [
      "t-статистика: -0.35489147881361166\n",
      "P-значение: 0.7233619838773336\n",
      "Не отвергаем нулевую гипотезу: средние значения скорости не различаются\n",
      "Среднее значение скорости у покемонов класса Water: 67.88135593220339\n",
      "Среднее значение скорости у покемонов класса Normal: 69.45901639344262\n"
     ]
    }
   ],
   "source": [
    "# Проведение t-теста для сравнения средних значений скорости\n",
    "\n",
    "t_stat, p_value = stats.ttest_ind(water_pokemon['speed'], normal_pokemon['speed'], equal_var=False) # параметр указывает на неравные дисперсий.\n",
    "\n",
    "print(f\"t-статистика: {t_stat}\")\n",
    "print(f\"P-значение: {p_value}\")\n",
    "\n",
    "# Интерпретация результата\n",
    "alpha = 0.05\n",
    "if p_value < alpha:\n",
    "    print(\"Отвергаем нулевую гипотезу: средние значения скорости различаются\")\n",
    "    if water_pokemon['speed'].mean() > normal_pokemon['speed'].mean():\n",
    "        print(\"Среднее значение скорости у покемонов класса water стат.значимо выше, чем у покемонов класса normal\")\n",
    "    else:\n",
    "        print(\"Среднее значение скорости у покемонов класса normal стат.значимо выше, чем у покемонов класса water\")\n",
    "else:\n",
    "    print(\"Не отвергаем нулевую гипотезу: средние значения скорости не различаются\")\n",
    "    \n",
    "print(\"Среднее значение скорости у покемонов класса Water:\", water_pokemon['speed'].mean())\n",
    "print(\"Среднее значение скорости у покемонов класса Normal:\", normal_pokemon['speed'].mean())"
   ]
  },
  {
   "cell_type": "markdown",
   "metadata": {},
   "source": [
    "### Вывод: не правда. Покемоны в классе `Water` и `Normal` не отличаются по скорости."
   ]
  },
  {
   "cell_type": "markdown",
   "metadata": {
    "id": "p9VPcdu-GZwb"
   },
   "source": [
    "<div class=\"alert alert-info\">\n",
    "<b>Задание № 3:</b>\n",
    "    \n",
    "Профессор Оук тот еще безумец. Он изобрёл сыворотку, способную ускорить покемона. Однако мы усомнились в эффективности его вакцины. Професоор дал эту сыворотку следующим покемонам: смотри массив `treathed_pokemon`. Проверьте, работает ли вообще его сыворотка, убедите всех в своём выводе статистически.\n",
    "    \n",
    "    \n",
    "Вы можете предположить, что распределение скорости движения является нормальным для всех классов покемонов.\n",
    "\n",
    "</div>"
   ]
  },
  {
   "cell_type": "code",
   "execution_count": 66,
   "metadata": {
    "id": "olGBBpq2GZwb",
    "tags": []
   },
   "outputs": [
    {
     "data": {
      "text/html": [
       "<div>\n",
       "<style scoped>\n",
       "    .dataframe tbody tr th:only-of-type {\n",
       "        vertical-align: middle;\n",
       "    }\n",
       "\n",
       "    .dataframe tbody tr th {\n",
       "        vertical-align: top;\n",
       "    }\n",
       "\n",
       "    .dataframe thead th {\n",
       "        text-align: right;\n",
       "    }\n",
       "</style>\n",
       "<table border=\"1\" class=\"dataframe\">\n",
       "  <thead>\n",
       "    <tr style=\"text-align: right;\">\n",
       "      <th></th>\n",
       "      <th>pid</th>\n",
       "      <th>name</th>\n",
       "      <th>class_1</th>\n",
       "      <th>class_2</th>\n",
       "      <th>hp</th>\n",
       "      <th>attack</th>\n",
       "      <th>defense</th>\n",
       "      <th>sp._atk</th>\n",
       "      <th>sp._def</th>\n",
       "      <th>speed</th>\n",
       "      <th>legendary</th>\n",
       "    </tr>\n",
       "  </thead>\n",
       "  <tbody>\n",
       "    <tr>\n",
       "      <th>19</th>\n",
       "      <td>20</td>\n",
       "      <td>Mega Beedrill</td>\n",
       "      <td>Bug</td>\n",
       "      <td>Poison</td>\n",
       "      <td>65</td>\n",
       "      <td>150</td>\n",
       "      <td>40</td>\n",
       "      <td>15</td>\n",
       "      <td>80</td>\n",
       "      <td>145</td>\n",
       "      <td>False</td>\n",
       "    </tr>\n",
       "    <tr>\n",
       "      <th>71</th>\n",
       "      <td>72</td>\n",
       "      <td>Mega Alakazam</td>\n",
       "      <td>Psychic</td>\n",
       "      <td>NaN</td>\n",
       "      <td>55</td>\n",
       "      <td>50</td>\n",
       "      <td>65</td>\n",
       "      <td>175</td>\n",
       "      <td>95</td>\n",
       "      <td>150</td>\n",
       "      <td>False</td>\n",
       "    </tr>\n",
       "    <tr>\n",
       "      <th>428</th>\n",
       "      <td>429</td>\n",
       "      <td>Deoxys Normal Forme</td>\n",
       "      <td>Psychic</td>\n",
       "      <td>NaN</td>\n",
       "      <td>50</td>\n",
       "      <td>150</td>\n",
       "      <td>50</td>\n",
       "      <td>150</td>\n",
       "      <td>50</td>\n",
       "      <td>150</td>\n",
       "      <td>True</td>\n",
       "    </tr>\n",
       "    <tr>\n",
       "      <th>476</th>\n",
       "      <td>477</td>\n",
       "      <td>Mega Lopunny</td>\n",
       "      <td>Normal</td>\n",
       "      <td>Fighting</td>\n",
       "      <td>65</td>\n",
       "      <td>136</td>\n",
       "      <td>94</td>\n",
       "      <td>54</td>\n",
       "      <td>96</td>\n",
       "      <td>135</td>\n",
       "      <td>False</td>\n",
       "    </tr>\n",
       "  </tbody>\n",
       "</table>\n",
       "</div>"
      ],
      "text/plain": [
       "     pid                 name  class_1   class_2  hp  attack  defense  \\\n",
       "19    20        Mega Beedrill      Bug    Poison  65     150       40   \n",
       "71    72        Mega Alakazam  Psychic       NaN  55      50       65   \n",
       "428  429  Deoxys Normal Forme  Psychic       NaN  50     150       50   \n",
       "476  477         Mega Lopunny   Normal  Fighting  65     136       94   \n",
       "\n",
       "     sp._atk  sp._def  speed  legendary  \n",
       "19        15       80    145      False  \n",
       "71       175       95    150      False  \n",
       "428      150       50    150       True  \n",
       "476       54       96    135      False  "
      ]
     },
     "execution_count": 66,
     "metadata": {},
     "output_type": "execute_result"
    }
   ],
   "source": [
    "# Покемоны, которые принимали сыворотку увеличения скорости\n",
    "treathed_pokemon = ['Mega Beedrill', 'Mega Alakazam',\n",
    "                    'Deoxys Normal Forme', 'Mega Lopunny']\n",
    "\n",
    "test_pokemon = pokemon2[pokemon2['name'].isin(treathed_pokemon)]\n",
    "\n",
    "\n",
    "# Вывод результата\n",
    "test_pokemon.head(60)"
   ]
  },
  {
   "cell_type": "markdown",
   "metadata": {},
   "source": [
    "### Для сравнения возьмем покемонов с такими же классами, что и в экспериментальной группе."
   ]
  },
  {
   "cell_type": "code",
   "execution_count": 74,
   "metadata": {
    "tags": []
   },
   "outputs": [
    {
     "name": "stdout",
     "output_type": "stream",
     "text": [
      "Не отклоняем нулевую гипотезу >> Данные распределены нормально\n",
      "Test statistic: 0.8274267315864563\n",
      "p-value: 0.1611907184123993\n",
      "Отклоняем нулевую гипотезу >> Данные распределены не нормально\n",
      "Test statistic: 0.941388726234436\n",
      "p-value: 0.018357951194047928\n"
     ]
    }
   ],
   "source": [
    "# Фильтрация данных по типам покемонов (исключая покемонов с именами из массива)\n",
    "\n",
    "bug_poison_pokemon = pokemon2[(pokemon2['class_1'] == 'Bug') & (pokemon2['class_2'] == 'Poison') & (~pokemon2['name'].isin(treathed_pokemon))]\n",
    "psychic_pokemon = pokemon2[(pokemon2['class_1'] == 'Psychic') & (pokemon2['class_2'].isna()) & (~pokemon2['name'].isin(treathed_pokemon))]\n",
    "normal_fighting_pokemon = pokemon2[(pokemon2['class_1'] == 'Normal') & (pokemon2['class_2'] == 'Fighting') & (~pokemon2['name'].isin(treathed_pokemon))]\n",
    "\n",
    "control_pokemon = pd.concat([bug_poison_pokemon, psychic_pokemon, normal_fighting_pokemon])\n",
    "\n",
    "\n",
    "check_normality(test_pokemon['speed'])\n",
    "check_normality(control_pokemon['speed'])"
   ]
  },
  {
   "cell_type": "code",
   "execution_count": 76,
   "metadata": {
    "tags": []
   },
   "outputs": [
    {
     "name": "stdout",
     "output_type": "stream",
     "text": [
      "Levene Statistic: 5.101007742332398\n",
      "P-Value: 0.028306281417450754\n",
      "Отвергаем нулевую гипотезу: дисперсии не равны.\n"
     ]
    }
   ],
   "source": [
    "# Выполнение теста Левена для столбца speed\n",
    "levene_statistic, p_value = stats.levene(test_pokemon['speed'], control_pokemon['speed'])\n",
    "\n",
    "# Вывод результатов\n",
    "print(f\"Levene Statistic: {levene_statistic}\")\n",
    "print(f\"P-Value: {p_value}\")\n",
    "\n",
    "alpha = 0.05\n",
    "if p_value < alpha:\n",
    "    print(\"Отвергаем нулевую гипотезу: дисперсии не равны.\")\n",
    "else:\n",
    "    print(\"Не отвергаем нулевую гипотезу: дисперсии равны.\")\n"
   ]
  },
  {
   "cell_type": "markdown",
   "metadata": {},
   "source": [
    "### Данные распределены ненормально и дисперсии не равны, поэтому исспользуем U-тест."
   ]
  },
  {
   "cell_type": "code",
   "execution_count": 78,
   "metadata": {
    "tags": []
   },
   "outputs": [
    {
     "name": "stdout",
     "output_type": "stream",
     "text": [
      "U-Statistic: 184.0\n",
      "P-Value: 0.0013208317744400606\n",
      "Отвергаем нулевую гипотезу: существует статистически значимая разница в скорости между группами.\n"
     ]
    }
   ],
   "source": [
    "u_statistic, p_value = stats.mannwhitneyu(test_pokemon['speed'], control_pokemon['speed'], alternative='greater')\n",
    "\n",
    "# Вывод результатов\n",
    "print(f\"U-Statistic: {u_statistic}\")\n",
    "print(f\"P-Value: {p_value}\")\n",
    "\n",
    "alpha = 0.05\n",
    "if p_value < alpha:\n",
    "    print(\"Отвергаем нулевую гипотезу: существует статистически значимая разница в скорости между группами.\")\n",
    "else:\n",
    "    print(\"Не отвергаем нулевую гипотезу: нет статистически значимой разницы в скорости между группами.\")"
   ]
  },
  {
   "cell_type": "markdown",
   "metadata": {},
   "source": [
    "### Можно предположить, что сыворотка работает."
   ]
  },
  {
   "cell_type": "markdown",
   "metadata": {
    "id": "IpgS6yk9GZwc"
   },
   "source": [
    "<div class=\"alert alert-info\">\n",
    "<b>Задание № 4:</b>\n",
    "    \n",
    "Профессор Оук всегда любил истории про легендарных покемонов. Однако профессор не очень уверен, что они лучше остальных покемонов. Оук предложил разобраться в этом нам. Проверьте, действительно ли сумма характеристик `HP`,`Attack`,`Defense` у легендарных покемонов выше, чем у других покемонов?\n",
    "\n",
    "А произведение этих же параметров?\n",
    "\n",
    "Найдите ответы на эти вопросы и убедите всех в своём выводе статистически.\n",
    "   \n",
    "\n",
    "Вы можете предположить, что распределение сум и произведений этих параметров является нормальным для всех классов покемонов.\n",
    "\n",
    "</div>"
   ]
  },
  {
   "cell_type": "code",
   "execution_count": 98,
   "metadata": {
    "id": "ah5AoxB1t8tA",
    "tags": []
   },
   "outputs": [
    {
     "name": "stdout",
     "output_type": "stream",
     "text": [
      "Statistic: 11.269347526347529\n",
      "P-Value: 0.0008253203431444607\n",
      "Отвергаем нулевую гипотезу: дисперсии не равны.\n"
     ]
    }
   ],
   "source": [
    "# Фильтрация данных по легендарным и обычным покемонам\n",
    "legendary_pokemon = pokemon2[pokemon2['legendary'] == True]\n",
    "non_legendary_pokemon = pokemon2[pokemon2['legendary'] == False]\n",
    "\n",
    "# Рассчет суммы характеристик для каждого покемона\n",
    "legendary_sum = legendary_pokemon['hp'] + legendary_pokemon['attack'] + legendary_pokemon['defense']\n",
    "non_legendary_sum = non_legendary_pokemon['hp'] + non_legendary_pokemon['attack'] + non_legendary_pokemon['defense']\n",
    "\n",
    "# Проверка равенства дисперсий\n",
    "statistic, p_value = stats.levene(legendary_sum, non_legendary_sum)\n",
    "\n",
    "# Вывод результатов\n",
    "alpha = 0.05\n",
    "print(f\"Statistic: {statistic}\")\n",
    "print(f\"P-Value: {p_value}\")\n",
    "\n",
    "if p_value < alpha:\n",
    "    print(\"Отвергаем нулевую гипотезу: дисперсии не равны.\")\n",
    "else:\n",
    "    print(\"Не отвергаем нулевую гипотезу: дисперсии равны.\")"
   ]
  },
  {
   "cell_type": "code",
   "execution_count": 100,
   "metadata": {
    "tags": []
   },
   "outputs": [
    {
     "name": "stdout",
     "output_type": "stream",
     "text": [
      "T-Statistic: 15.198078076682357\n",
      "P-Value: 1.4337640805645998e-26\n",
      "Отвергаем нулевую гипотезу: средняя сумма характеристик у легендарных покемонов выше.\n"
     ]
    }
   ],
   "source": [
    "# Выполнение t-теста Уэлча\n",
    "t_statistic, p_value = stats.ttest_ind(legendary_sum, non_legendary_sum, equal_var=False, alternative='greater')\n",
    "\n",
    "# Вывод результатов\n",
    "alpha = 0.05\n",
    "print(f\"T-Statistic: {t_statistic}\")\n",
    "print(f\"P-Value: {p_value}\")\n",
    "\n",
    "if p_value < alpha:\n",
    "    print(\"Отвергаем нулевую гипотезу: средняя сумма характеристик у легендарных покемонов выше.\")\n",
    "else:\n",
    "    print(\"Не отвергаем нулевую гипотезу: нет статистически значимого различия в средней сумме характеристик.\")\n"
   ]
  },
  {
   "cell_type": "code",
   "execution_count": 102,
   "metadata": {
    "id": "ah5AoxB1t8tA",
    "tags": []
   },
   "outputs": [
    {
     "name": "stdout",
     "output_type": "stream",
     "text": [
      "T-Statistic: 10.078156164918601\n",
      "P-Value: 1.4493086253742267e-15\n",
      "Отвергаем нулевую гипотезу: средняя сумма характеристик у легендарных покемонов выше.\n"
     ]
    }
   ],
   "source": [
    "# Рассчет произведения характеристик для каждого покемона\n",
    "legendary_sum = legendary_pokemon['hp'] * legendary_pokemon['attack'] * legendary_pokemon['defense']\n",
    "non_legendary_sum = non_legendary_pokemon['hp'] * non_legendary_pokemon['attack'] * non_legendary_pokemon['defense']\n",
    "\n",
    "# Выполнение t-теста Уэлча\n",
    "t_statistic, p_value = stats.ttest_ind(legendary_sum, non_legendary_sum, equal_var=False, alternative='greater')\n",
    "\n",
    "# Вывод результатов\n",
    "alpha = 0.05\n",
    "print(f\"T-Statistic: {t_statistic}\")\n",
    "print(f\"P-Value: {p_value}\")\n",
    "\n",
    "if p_value < alpha:\n",
    "    print(\"Отвергаем нулевую гипотезу: средняя сумма характеристик у легендарных покемонов выше.\")\n",
    "else:\n",
    "    print(\"Не отвергаем нулевую гипотезу: нет статистически значимого различия в средней сумме характеристик.\")\n"
   ]
  },
  {
   "cell_type": "markdown",
   "metadata": {
    "tags": []
   },
   "source": [
    "### В любом случае средняя сумма характеристик у легендарных покемонов выше."
   ]
  },
  {
   "cell_type": "markdown",
   "metadata": {
    "id": "g9GwcheAGZwc"
   },
   "source": [
    "<div class=\"alert alert-info\">\n",
    "<b>Задание № 5:</b>\n",
    "    \n",
    "Профессор Оук частенько наблюдает за боями покемонов. После очередных таких боёв Оук выделил четыре класса `best_defence_class`, которые на его взгляд одинаковы по \"силе обычной защиты\" `Defense`.\n",
    "\n",
    "Проверьте, действительно ли эти классы покемонов не отличаются по уровню защиты статистически значимо? Всё та же статистика вам в помощь!\n",
    "   \n",
    "\n",
    "Вы можете предположить, что распределение параметров защитных характеристик является нормальным для всех классов покемонов.\n",
    "\n",
    "</div>"
   ]
  },
  {
   "cell_type": "code",
   "execution_count": 104,
   "metadata": {
    "colab": {
     "base_uri": "https://localhost:8080/"
    },
    "id": "F0w6ipNBGZwd",
    "outputId": "e20a4efd-dcf6-4730-8730-91f7fec544ea"
   },
   "outputs": [
    {
     "data": {
      "text/plain": [
       "['Rock', 'Ground', 'Steel', 'Ice']"
      ]
     },
     "execution_count": 104,
     "metadata": {},
     "output_type": "execute_result"
    }
   ],
   "source": [
    "best_defence_class = ['Rock', 'Ground', 'Steel', 'Ice']\n",
    "best_defence_class"
   ]
  },
  {
   "cell_type": "code",
   "execution_count": 106,
   "metadata": {
    "id": "pYOPHA9Xt_eF",
    "tags": []
   },
   "outputs": [
    {
     "name": "stdout",
     "output_type": "stream",
     "text": [
      "Statistic: 0.7138464074765566\n",
      "P-Value: 0.5455265515458723\n",
      "Не отвергаем нулевую гипотезу: дисперсии равны.\n"
     ]
    }
   ],
   "source": [
    "# Сравним дисперсии\n",
    "\n",
    "# Фильтрация данных по классам\n",
    "rock_pokemon = pokemon2[(pokemon2['class_1'] == 'Rock')]\n",
    "ground_pokemon = pokemon2[(pokemon2['class_1'] == 'Ground')]\n",
    "steel_pokemon = pokemon2[(pokemon2['class_1'] == 'Steel')]\n",
    "ice_pokemon = pokemon2[(pokemon2['class_1'] == 'Ice')]\n",
    "\n",
    "# Выделение значений защиты для каждой группы\n",
    "rock_defense = rock_pokemon['defense']\n",
    "ground_defense = ground_pokemon['defense']\n",
    "steel_defense = steel_pokemon['defense']\n",
    "ice_defense = ice_pokemon['defense']\n",
    "\n",
    "# Выполнение теста Левена\n",
    "statistic, p_value = stats.levene(rock_defense, ground_defense, steel_defense, ice_defense)\n",
    "\n",
    "# Вывод результатов\n",
    "alpha = 0.05\n",
    "print(f\"Statistic: {statistic}\")\n",
    "print(f\"P-Value: {p_value}\")\n",
    "\n",
    "if p_value < alpha:\n",
    "    print(\"Отвергаем нулевую гипотезу: дисперсии не равны.\")\n",
    "else:\n",
    "    print(\"Не отвергаем нулевую гипотезу: дисперсии равны.\")"
   ]
  },
  {
   "cell_type": "code",
   "execution_count": 127,
   "metadata": {
    "tags": []
   },
   "outputs": [
    {
     "name": "stdout",
     "output_type": "stream",
     "text": [
      "F-Statistic: 10.576882027817977\n",
      "P-Value: 3.0803014649204294e-06\n",
      "Отвергаем нулевую гипотезу: существует статистически значимая разница в защите между классами.\n",
      "100.79545454545455\n",
      "84.84375\n",
      "126.37037037037037\n",
      "71.41666666666667\n"
     ]
    }
   ],
   "source": [
    "# Выполнение однофакторного ANOVA\n",
    "f_statistic, p_value = stats.f_oneway(rock_defense, ground_defense, steel_defense, ice_defense)\n",
    "\n",
    "# Вывод результатов\n",
    "alpha = 0.05\n",
    "print(f\"F-Statistic: {f_statistic}\")\n",
    "print(f\"P-Value: {p_value}\")\n",
    "\n",
    "if p_value < alpha:\n",
    "    print(\"Отвергаем нулевую гипотезу: существует статистически значимая разница в защите между классами.\")\n",
    "else:\n",
    "    print(\"Не отвергаем нулевую гипотезу: нет статистически значимой разницы в защите между классами.\")\n",
    "\n",
    "print(rock_defense.mean())\n",
    "print(ground_defense.mean())\n",
    "print(steel_defense.mean())\n",
    "print(ice_defense.mean())"
   ]
  },
  {
   "cell_type": "markdown",
   "metadata": {},
   "source": [
    "### Профессор неправ: классы 'Rock', 'Ground', 'Steel' и 'Ice' имеют статистически значимые различия по силе обычной защиты."
   ]
  }
 ],
 "metadata": {
  "colab": {
   "provenance": []
  },
  "kernelspec": {
   "display_name": "Python 3 (ipykernel)",
   "language": "python",
   "name": "python3"
  },
  "language_info": {
   "codemirror_mode": {
    "name": "ipython",
    "version": 3
   },
   "file_extension": ".py",
   "mimetype": "text/x-python",
   "name": "python",
   "nbconvert_exporter": "python",
   "pygments_lexer": "ipython3",
   "version": "3.11.7"
  },
  "toc": {
   "base_numbering": 1,
   "nav_menu": {},
   "number_sections": true,
   "sideBar": true,
   "skip_h1_title": false,
   "title_cell": "Table of Contents",
   "title_sidebar": "Contents",
   "toc_cell": false,
   "toc_position": {},
   "toc_section_display": true,
   "toc_window_display": false
  }
 },
 "nbformat": 4,
 "nbformat_minor": 4
}
