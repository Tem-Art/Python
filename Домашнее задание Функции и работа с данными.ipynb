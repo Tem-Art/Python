{
 "cells": [
  {
   "cell_type": "code",
   "execution_count": 12,
   "id": "e8236be8-a9f2-4d87-9c6b-5d68946adb92",
   "metadata": {
    "tags": []
   },
   "outputs": [
    {
     "name": "stdout",
     "output_type": "stream",
     "text": [
      "   userId  movieId  rating   timestamp            class\n",
      "0       1       31     2.5  1260759144  средний рейтинг\n",
      "1       1     1029     3.0  1260759179  средний рейтинг\n",
      "2       1     1061     3.0  1260759182  средний рейтинг\n",
      "3       1     1129     2.0  1260759185   низкий рейтинг\n",
      "4       1     1172     4.0  1260759205  средний рейтинг\n"
     ]
    }
   ],
   "source": [
    "# Задание 1\n",
    "# Напишите функцию, которая классифицирует фильмы из материалов занятия по правилам:\n",
    "# • оценка 2 и ниже — низкий рейтинг;\n",
    "# • оценка 4 и ниже — средний рейтинг;\n",
    "# • оценка 4.5 и 5 — высокий рейтинг.\n",
    "# Результат классификации запишите в столбец class.\n",
    "\n",
    "\n",
    "import pandas as pd\n",
    "\n",
    "ratings_ = pd.read_csv(r'C:\\Users\\AAA\\Downloads\\ml-latest-small\\ratings.csv')\n",
    "\n",
    "# Функция классификации рейтингов\n",
    "def classify (rating):\n",
    "    if rating <= 2:\n",
    "        return 'низкий рейтинг'\n",
    "    elif rating <= 4:\n",
    "        return 'средний рейтинг'\n",
    "    else:\n",
    "        return 'высокий рейтинг'\n",
    "    \n",
    "# Применение функции classify к столбцу 'rating'\n",
    "ratings_['class'] = ratings_['rating'].apply(classify)\n",
    "\n",
    "print(ratings_.head())"
   ]
  },
  {
   "cell_type": "code",
   "execution_count": 20,
   "id": "f080ef65-3e02-487d-bde9-247d68244561",
   "metadata": {
    "tags": []
   },
   "outputs": [
    {
     "name": "stdout",
     "output_type": "stream",
     "text": [
      "<class 'pandas.core.frame.DataFrame'>\n",
      "RangeIndex: 100000 entries, 0 to 99999\n",
      "Data columns (total 2 columns):\n",
      " #   Column   Non-Null Count   Dtype \n",
      "---  ------   --------------   ----- \n",
      " 0   keyword  100000 non-null  object\n",
      " 1   shows    100000 non-null  int64 \n",
      "dtypes: int64(1), object(1)\n",
      "memory usage: 1.5+ MB\n"
     ]
    }
   ],
   "source": [
    "# Задание 2.\n",
    "# Нужно написать гео-классификатор, который каждой строке сможет выставить географическую принадлежность определённому региону.\n",
    "# Т. е. если поисковый запрос содержит название города региона, то в столбце ‘region’ пишется название этого региона.\n",
    "# Если поисковый запрос не содержит названия города, то ставим ‘undefined’.\n",
    "\n",
    "import pandas as pd\n",
    "\n",
    "keywords_ = pd.read_csv(r'C:\\Users\\AAA\\Downloads\\ml-latest-small\\keywords.csv')\n"
   ]
  },
  {
   "cell_type": "code",
   "execution_count": 2,
   "id": "3fc12545-e44a-451b-a8f5-6a94b208262d",
   "metadata": {
    "tags": []
   },
   "outputs": [
    {
     "name": "stdout",
     "output_type": "stream",
     "text": [
      "         keyword     shows     region\n",
      "0             вк  64292779  undefined\n",
      "1  одноклассники  63810309  undefined\n",
      "2          порно  41747114  undefined\n",
      "3           ютуб  39995567  undefined\n",
      "4      вконтакте  21014195  undefined\n",
      "                                     keyword   shows          region\n",
      "127                             авито москва  979292           Центр\n",
      "370                 авито ру санкт петербург  425134    Северо-Запад\n",
      "564                погода в санкт петербурге  292489    Северо-Запад\n",
      "849                          авито ярославль  209581           Центр\n",
      "1063                     фарпост владивосток  176951  Дальний Восток\n",
      "...                                      ...     ...             ...\n",
      "99590  авито ярославль автомобили с пробегом    3673           Центр\n",
      "99634   северпост новости мурманской области    3606    Северо-Запад\n",
      "99808      полармед мурманск запись на прием    3719    Северо-Запад\n",
      "99890                    яндекс метро москва    4548           Центр\n",
      "99922                      авто ру ярославль    3712           Центр\n",
      "\n",
      "[747 rows x 3 columns]\n"
     ]
    }
   ],
   "source": [
    "import pandas as pd\n",
    "\n",
    "df = pd.read_csv(r'C:\\Users\\AAA\\Downloads\\ml-latest-small\\keywords.csv')\n",
    "\n",
    "# Определение географических данных\n",
    "geo_data = {\n",
    "    'Центр': ['москва', 'тула', 'ярославль'],\n",
    "    'Северо-Запад': ['петербург', 'псков', 'мурманск'],\n",
    "    'Дальний Восток': ['владивосток', 'сахалин', 'хабаровск']\n",
    "}\n",
    "\n",
    "# Создание обратного словаря для быстрого поиска региона по городу\n",
    "city_to_region = {}\n",
    "for region, cities in geo_data.items():\n",
    "    for city in cities:\n",
    "        city_to_region[city] = region\n",
    "\n",
    "# Функция для определения региона по запросу\n",
    "def determine_region(keyword):\n",
    "    for city, region in city_to_region.items():\n",
    "        if city in keyword.lower():\n",
    "            return region\n",
    "    return 'undefined'\n",
    "\n",
    "# Примененяем функцию и добавляем столбец 'region'\n",
    "df['region'] = df['keyword'].apply(determine_region)\n",
    "\n",
    "\n",
    "print(df.head())\n",
    "\n",
    "# Фильтр строк без значения 'undefined'\n",
    "filtered_df = df.loc[df['region'] != 'undefined']\n",
    "print(filtered_df)"
   ]
  }
 ],
 "metadata": {
  "kernelspec": {
   "display_name": "Python 3 (ipykernel)",
   "language": "python",
   "name": "python3"
  },
  "language_info": {
   "codemirror_mode": {
    "name": "ipython",
    "version": 3
   },
   "file_extension": ".py",
   "mimetype": "text/x-python",
   "name": "python",
   "nbconvert_exporter": "python",
   "pygments_lexer": "ipython3",
   "version": "3.11.7"
  }
 },
 "nbformat": 4,
 "nbformat_minor": 5
}
