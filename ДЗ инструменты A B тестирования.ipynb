{
 "cells": [
  {
   "cell_type": "markdown",
   "id": "c211d017-eafa-431d-9b7f-ce1fe4285c3c",
   "metadata": {},
   "source": [
    "### Паспорт А/В теста."
   ]
  },
  {
   "cell_type": "markdown",
   "id": "0ec0b7b1-90d1-4edf-ad0b-e3c40807bbd0",
   "metadata": {},
   "source": [
    "Гипотеза: если для пользователей Android сделать UI приложения похожим на UI IOS, то это повысит конверсию в поездку на 4%.\n",
    "\n",
    "Н0: конверсия в поездку не изменится.\n",
    "\n",
    "Н1: конверсия в поездку увеличится минимум на 4%."
   ]
  },
  {
   "cell_type": "code",
   "execution_count": null,
   "id": "ae8ba789-c70b-4d33-b276-1b0f746fe21b",
   "metadata": {},
   "outputs": [],
   "source": []
  },
  {
   "cell_type": "markdown",
   "id": "3ca08b19-4b02-40fb-8939-6da56da85d67",
   "metadata": {},
   "source": [
    "Тестируемое изменение: как повлияет изменение дизайна приложения на конверсию в поездку.\n",
    "\n",
    "Генеральная совокупность: пользователи Android, которые открывали приложение. \n",
    "\n",
    "Текущая конверсия: 55.47% (app_opened to ride_completed).\n",
    "\n",
    "Первичная метрика: CR в завершение поездки.\n",
    "\n",
    "Вторичные метрики: CR этапов ворооонки (price_seen и order_made)."
   ]
  },
  {
   "cell_type": "code",
   "execution_count": null,
   "id": "95752677-1da9-456e-971f-05af053c3c16",
   "metadata": {},
   "outputs": [],
   "source": []
  },
  {
   "cell_type": "markdown",
   "id": "95bd1dd1-1a37-4085-a813-bb9e113ad987",
   "metadata": {},
   "source": [
    "Тип данных: бинарные.\n",
    "\n",
    "Используемая статистика: Манна-Уитни.\n",
    "\n",
    "Tails: двухсторонний.\n",
    "\n",
    "Уровень значимости α: 5%.\n",
    "\n",
    "Мощность: 80%.\n",
    "\n",
    "Размер выборки: 21396.\n",
    "\n",
    "Минимальный зазмер каждой группы: 2428. \n",
    "\n",
    "Сплитование: 50 / 50 (разбивка - случайным методом, проверка на однородность - тест Манна-Уитни по distance и age) ."
   ]
  },
  {
   "cell_type": "code",
   "execution_count": null,
   "id": "57d3a691-0644-4ffc-bd20-dffd7999d4eb",
   "metadata": {},
   "outputs": [],
   "source": []
  }
 ],
 "metadata": {
  "kernelspec": {
   "display_name": "Python 3 (ipykernel)",
   "language": "python",
   "name": "python3"
  },
  "language_info": {
   "codemirror_mode": {
    "name": "ipython",
    "version": 3
   },
   "file_extension": ".py",
   "mimetype": "text/x-python",
   "name": "python",
   "nbconvert_exporter": "python",
   "pygments_lexer": "ipython3",
   "version": "3.11.7"
  }
 },
 "nbformat": 4,
 "nbformat_minor": 5
}
